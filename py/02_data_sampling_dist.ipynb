{
 "cells": [
  {
   "cell_type": "markdown",
   "metadata": {},
   "source": [
    "# Data and Sampling Distributions"
   ]
  },
  {
   "cell_type": "markdown",
   "metadata": {},
   "source": [
    "A popular misconception holds that the era of big data means the end of a need for\n",
    "sampling. In fact, the proliferation of data of varying quality and relevance reinforces\n",
    "the need for sampling as a tool to work efficiently with a variety of data and to mini‐\n",
    "mize bias. Even in a big data project, predictive models are typically developed and\n",
    "piloted with samples. Samples are also used in tests of various sorts (e.g., comparing\n",
    "the effect of web page designs on clicks)."
   ]
  },
  {
   "cell_type": "markdown",
   "metadata": {},
   "source": [
    "In general, data scientists need not worry about the theoretical nature of the lefthand\n",
    "side and instead should focus on the sampling procedures and the data at hand.\n",
    "There are some notable exceptions. Sometimes data is generated from a physical pro‐\n",
    "cess that can be modeled. The simplest example is flipping a coin: this follows a bino‐\n",
    "mial distribution. Any real-life binomial situation (buy or don’t buy, fraud or no\n",
    "fraud, click or don’t click) can be modeled effectively by a coin (with modified proba‐\n",
    "bility of landing heads, of course). In these cases, we can gain additional insight by\n",
    "using our understanding of the population."
   ]
  },
  {
   "cell_type": "code",
   "execution_count": 1,
   "metadata": {},
   "outputs": [
    {
     "data": {
      "image/png": "[encoded data removed]",
      "text/plain": [
       "<Figure size 720x288 with 2 Axes>"
      ]
     },
     "metadata": {
      "needs_background": "light"
     },
     "output_type": "display_data"
    }
   ],
   "source": [
    "import numpy as np\n",
    "import matplotlib.pyplot as plt\n",
    "from scipy import stats\n",
    "\n",
    "np.random.seed(seed=1)\n",
    "x = np.linspace(-3, 3, 300)\n",
    "xsample = stats.norm.rvs(size=1000)\n",
    "\n",
    "fig, axes = plt.subplots(ncols=2, figsize=(10, 4))\n",
    "\n",
    "ax = axes[0]\n",
    "ax.fill(x, stats.norm.pdf(x))\n",
    "ax.set_axis_off()\n",
    "ax.set_xlim(-3, 3)\n",
    "\n",
    "ax = axes[1]\n",
    "ax.hist(xsample, bins=30)\n",
    "ax.set_axis_off()\n",
    "ax.set_xlim(-3, 3)\n",
    "ax.set_position\n",
    "# plt.subplots_adjust(left=0, bottom=0, right=1, top=1, wspace=0, hspace=0)\n",
    "\n",
    "plt.show()\n",
    "\n"
   ]
  },
  {
   "cell_type": "markdown",
   "metadata": {},
   "source": [
    "## Random Sampling and Sample Bias"
   ]
  },
  {
   "cell_type": "markdown",
   "metadata": {},
   "source": [
    "A __sample__ is a subset of data from a larger data set; statisticians call this larger data set\n",
    "the __population__. A population in statistics is not the same thing as in biology—it is a\n",
    "large, defined (but sometimes theoretical or imaginary) set of data.\n",
    "\n",
    "__Random sampling__ is a process in which each available member of the population\n",
    "being sampled has an equal chance of being chosen for the sample at each draw. The\n",
    "sample that results is called a simple random sample. Sampling can be done with\n",
    "replacement, in which observations are put back in the population after each draw for\n",
    "possible future reselection. Or it can be done without replacement, in which case\n",
    "observations, once selected, are unavailable for future draws.\n",
    "\n",
    "__Data quality__ often matters more than data quantity when making an estimate or a\n",
    "model based on a sample. Data quality in data science involves completeness, consis‐\n",
    "tency of format, cleanliness, and accuracy of individual data points. Statistics adds the\n",
    "notion of __representativeness__."
   ]
  },
  {
   "cell_type": "markdown",
   "metadata": {},
   "source": [
    "The classic example is the Literary Digest poll of 1936 that predicted a victory of Alf\n",
    "Landon over Franklin Roosevelt. The Literary Digest, a leading periodical of the day,\n",
    "polled its entire subscriber base plus additional lists of individuals, a total of over 10\n",
    "million people, and predicted a landslide victory for Landon. George Gallup, founder\n",
    "of the Gallup Poll, conducted biweekly polls of just 2,000 people and accurately pre‐\n",
    "dicted a Roosevelt victory. The difference lay in the selection of those polled."
   ]
  },
  {
   "cell_type": "markdown",
   "metadata": {},
   "source": [
    "The Literary Digest opted for quantity, paying little attention to the method of selec‐\n",
    "tion. They ended up polling those with relatively high socioeconomic status (their\n",
    "own subscribers, plus those who, by virtue of owning luxuries like telephones and\n",
    "automobiles, appeared in marketers’ lists). The result was sample bias; that is, the\n",
    "sample was different in some meaningful and nonrandom way from the larger popu‐\n",
    "lation it was meant to represent. The term nonrandom is important—hardly any sam‐\n",
    "ple, including random samples, will be exactly representative of the population.\n",
    "Sample bias occurs when the difference is meaningful, and it can be expected to con‐\n",
    "tinue for other samples drawn in the same way as the first."
   ]
  },
  {
   "cell_type": "markdown",
   "metadata": {},
   "source": [
    "## Bias"
   ]
  },
  {
   "cell_type": "markdown",
   "metadata": {},
   "source": [
    "Statistical bias refers to measurement or sampling errors that are systematic and pro‐\n",
    "duced by the measurement or sampling process. An important distinction should be\n",
    "made between errors due to random chance and errors due to bias. Consider the\n",
    "physical process of a gun shooting at a target. It will not hit the absolute center of the\n",
    "target every time, or even much at all. An unbiased process will produce error, but it\n",
    "is random and does not tend strongly in any direction"
   ]
  },
  {
   "cell_type": "markdown",
   "metadata": {},
   "source": [
    "Bias comes in different forms, and may be observable or invisible. When a result does\n",
    "suggest bias (e.g., by reference to a benchmark or actual values), it is often an indica‐\n",
    "tor that a statistical or machine learning model has been misspecified, or an impor‐\n",
    "tant variable left out."
   ]
  },
  {
   "cell_type": "markdown",
   "metadata": {},
   "source": [
    "## Random Selection"
   ]
  },
  {
   "cell_type": "markdown",
   "metadata": {},
   "source": [
    "To avoid the problem of sample bias that led the Literary Digest to predict Landon\n",
    "over Roosevelt, George Gallup opted for more scientifically\n",
    "chosen methods to achieve a sample that was representative of the US voting elector‐\n",
    "ate. There are now a variety of methods to achieve representativeness, but at the heart\n",
    "of all of them lies random sampling."
   ]
  },
  {
   "cell_type": "markdown",
   "metadata": {},
   "source": [
    "In stratified sampling, the population is divided up into strata, and random samples\n",
    "are taken from each stratum. Political pollsters might seek to learn the electoral pref‐\n",
    "erences of whites, blacks, and Hispanics. A simple random sample taken from the\n",
    "population would yield too few blacks and Hispanics, so those strata could be over‐\n",
    "weighted in stratified sampling to yield equivalent sample sizes."
   ]
  },
  {
   "cell_type": "markdown",
   "metadata": {},
   "source": [
    "## Sample Mean Versus Population Mean"
   ]
  },
  {
   "cell_type": "markdown",
   "metadata": {},
   "source": [
    "The symbol $\\bar{x}$ (pronounced “x-bar”) is used to represent the mean of a sample from a\n",
    "population, whereas $μ$ is used to represent the mean of a population. Why make the\n",
    "distinction? Information about samples is observed, and information about large\n",
    "populations is often inferred from smaller samples. Statisticians like to keep the two\n",
    "things separate in the symbology."
   ]
  },
  {
   "cell_type": "markdown",
   "metadata": {},
   "source": [
    "## Selection Bias"
   ]
  },
  {
   "cell_type": "markdown",
   "metadata": {},
   "source": [
    "Selection bias refers to the practice of selectively choosing data—consciously or\n",
    "unconsciously—in a way that leads to a conclusion that is misleading or ephemeral."
   ]
  },
  {
   "cell_type": "markdown",
   "metadata": {},
   "source": [
    "If you specify a hypothesis and conduct a well-designed experiment to test it, you can\n",
    "have high confidence in the conclusion. This is frequently not what occurs, however.\n",
    "Often, one looks at available data and tries to discern patterns. But are the patterns\n",
    "real? Or are they just the product of data snooping—that is, extensive hunting\n",
    "through the data until something interesting emerges? There is a saying among statis‐\n",
    "ticians: “If you torture the data long enough, sooner or later it will confess.”"
   ]
  },
  {
   "cell_type": "markdown",
   "metadata": {},
   "source": [
    "Since repeated review of large data sets is a key value proposition in data science,\n",
    "selection bias is something to worry about. A form of selection bias of particular con‐\n",
    "cern to data scientists is what John Elder (founder of Elder Research, a respected data\n",
    "mining consultancy) calls the vast search effect. If you repeatedly run different models\n",
    "and ask different questions with a large data set, you are bound to find something\n",
    "interesting. But is the result you found truly something interesting, or is it the chance\n",
    "outlier?\n",
    "\n",
    "We can guard against this by using a holdout set, and sometimes more than one hold‐\n",
    "out set, against which to validate performance. Elder also advocates the use of what\n",
    "he calls target shuffling (a permutation test, in essence) to test the validity of predic‐\n",
    "tive associations that a data mining model suggests."
   ]
  },
  {
   "cell_type": "markdown",
   "metadata": {},
   "source": [
    "Typical forms of selection bias in statistics, in addition to the vast search effect,\n",
    "include nonrandom sampling,\n",
    "cherry-picking data, selection of time intervals that accentuate a particular statistical\n",
    "effect, and stopping an experiment when the results look “interesting.”"
   ]
  },
  {
   "cell_type": "markdown",
   "metadata": {},
   "source": [
    "## Regression to the Mean"
   ]
  },
  {
   "cell_type": "markdown",
   "metadata": {},
   "source": [
    "Regression to the mean refers to a phenomenon involving successive measurements\n",
    "on a given variable: extreme observations tend to be followed by more central ones.\n",
    "Attaching special focus and meaning to the extreme value can lead to a form of selection bias."
   ]
  },
  {
   "cell_type": "markdown",
   "metadata": {},
   "source": [
    "Sports fans are familiar with the “rookie of the year, sophomore slump” phenomenon.\n",
    "Among the athletes who begin their career in a given season (the rookie class), there\n",
    "is always one who performs better than all the rest. Generally, this “rookie of the year”\n",
    "does not do as well in his second year. Why not?\n",
    "\n",
    "In nearly all major sports, at least those played with a ball or puck, there are two elements that play a role in overall performance:\n",
    " - skill\n",
    " - luck"
   ]
  },
  {
   "cell_type": "markdown",
   "metadata": {},
   "source": [
    "Regression to the mean is a consequence of a particular form of selection bias. When\n",
    "we select the rookie with the best performance, skill and good luck are probably contributing. In his next season, the skill will still be there, but very often the luck will\n",
    "not be, so his performance will decline—it will regress."
   ]
  },
  {
   "cell_type": "markdown",
   "metadata": {},
   "source": [
    "## Sampling Distribution of a Statistic\n",
    "The term sampling distribution of a statistic refers to the distribution of some sample\n",
    "statistic over many samples drawn from the same population. Much of classical statisTypically, a sample is drawn with the goal of measuring something (with a sample statistic) or modeling something (with a statistical or machine learning model). Since\n",
    "our estimate or model is based on a sample, it might be in error; it might be different\n",
    "if we were to draw a different sample. We are therefore interested in how different it\n",
    "might be—a key concern is sampling variability. If we had lots of data, we could draw\n",
    "additional samples and observe the distribution of a sample statistic directly.tics is concerned with making inferences from (small) samples to (very large) population"
   ]
  },
  {
   "cell_type": "markdown",
   "metadata": {},
   "source": [
    "Typically, a sample is drawn with the goal of measuring something (with a sample sta‐\n",
    "tistic) or modeling something (with a statistical or machine learning model). Since\n",
    "our estimate or model is based on a sample, it might be in error; it might be different\n",
    "if we were to draw a different sample. We are therefore interested in how different it\n",
    "might be—a key concern is sampling variability. If we had lots of data, we could draw\n",
    "additional samples and observe the distribution of a sample statistic directly."
   ]
  },
  {
   "cell_type": "markdown",
   "metadata": {},
   "source": [
    "Typically, we will calculate our estimate or model using as much data as is easily avail‐\n",
    "able, so the option of drawing additional samples from the population is not readily\n",
    "available."
   ]
  },
  {
   "cell_type": "markdown",
   "metadata": {},
   "source": [
    "---\n",
    "\n",
    "__It is important to distinguish between the distribution of the individual data points, known as the data distribution, and the distribution of a sample statistic, known as the sampling distribution.__\n",
    "\n",
    "---"
   ]
  },
  {
   "cell_type": "markdown",
   "metadata": {},
   "source": [
    "The distribution of a sample statistic such as the mean is likely to be more regular and\n",
    "bell-shaped than the distribution of the data itself. The larger the sample the statistic\n",
    "is based on, the more this is true. Also, the larger the sample, the narrower the distri‐\n",
    "bution of the sample statistic."
   ]
  },
  {
   "cell_type": "code",
   "execution_count": 2,
   "metadata": {},
   "outputs": [],
   "source": [
    "DATA_DIR = '../data/'"
   ]
  },
  {
   "cell_type": "code",
   "execution_count": 3,
   "metadata": {},
   "outputs": [
    {
     "name": "stdout",
     "output_type": "stream",
     "text": [
      "         income  type\n",
      "40292   63000.0  Data\n",
      "38959   92000.0  Data\n",
      "17361  134000.0  Data\n",
      "33996   52000.0  Data\n",
      "26491   43000.0  Data\n"
     ]
    }
   ],
   "source": [
    "import pandas as pd\n",
    "import seaborn as sns\n",
    "import numpy as np\n",
    "import os\n",
    "\n",
    "LOANS_INCOME_CSV = os.path.join(DATA_DIR, 'loans_income.csv')\n",
    "\n",
    "loans_income = pd.read_csv(LOANS_INCOME_CSV, squeeze=True)\n",
    "\n",
    "sample_data = pd.DataFrame({\n",
    "    'income': loans_income.sample(1000),\n",
    "    'type': 'Data',\n",
    "})\n",
    "\n",
    "sample_mean_05 = pd.DataFrame({\n",
    "    'income': [loans_income.sample(5).mean() for _ in range(1000)],\n",
    "    'type': 'Mean of 5',\n",
    "})\n",
    "\n",
    "sample_mean_20 = pd.DataFrame({\n",
    "    'income': [loans_income.sample(20).mean() for _ in range(1000)],\n",
    "    'type': 'Mean of 20',\n",
    "})\n",
    "\n",
    "results = pd.concat([sample_data, sample_mean_05, sample_mean_20])\n",
    "print(results.head())"
   ]
  },
  {
   "cell_type": "code",
   "execution_count": 4,
   "metadata": {},
   "outputs": [
    {
     "data": {
      "image/png": "[encoded data removed]",
      "text/plain": [
       "<Figure size 576x864 with 3 Axes>"
      ]
     },
     "metadata": {
      "needs_background": "light"
     },
     "output_type": "display_data"
    }
   ],
   "source": [
    "g = sns.FacetGrid(results, col='type', col_wrap=1, \n",
    "                  height=4, aspect=2)\n",
    "g.map(plt.hist, 'income', range=[0, 200000], bins=40)\n",
    "g.set_axis_labels('Income', 'Count')\n",
    "g.set_titles('{col_name}')\n",
    "\n",
    "plt.tight_layout()\n",
    "plt.show()"
   ]
  },
  {
   "cell_type": "markdown",
   "metadata": {},
   "source": [
    "The phenomenon we’ve just described is termed the central limit theorem. It says that\n",
    "the means drawn from multiple samples will resemble the familiar bell-shaped normal curve\n",
    "even if the source population is\n",
    "not normally distributed, provided that the sample size is large enough and the\n",
    "departure of the data from normality is not too great. The central limit theorem\n",
    "allows normal-approximation formulas like the t-distribution to be used in calculating sampling distributions for inference—that is, confidence intervals and hypothesis\n",
    "tests."
   ]
  },
  {
   "cell_type": "markdown",
   "metadata": {},
   "source": [
    "The central limit theorem receives a lot of attention in traditional statistics texts\n",
    "because it underlies the machinery of hypothesis tests and confidence intervals,\n",
    "which themselves consume half the space in such texts. Data scientists should be\n",
    "aware of this role; however, since formal hypothesis tests and confidence intervals\n",
    "play a small role in data science, and the bootstrap is\n",
    "available in any case, the central limit theorem is not so central in the practice of data\n",
    "science."
   ]
  },
  {
   "cell_type": "markdown",
   "metadata": {},
   "source": [
    "## Standard Error"
   ]
  },
  {
   "cell_type": "markdown",
   "metadata": {},
   "source": [
    "The standard error is a single metric that sums up the variability in the sampling dis‐\n",
    "tribution for a statistic. The standard error can be estimated using a statistic based on\n",
    "the standard deviation s of the sample values, and the sample size n:\n",
    "\n",
    "$$ \\frac{s}{\\sqrt{n}} $$"
   ]
  },
  {
   "cell_type": "markdown",
   "metadata": {},
   "source": [
    "The relationship between standard error and sample size is\n",
    "sometimes referred to as the square root of n rule: to reduce the standard error by a\n",
    "factor of 2, the sample size must be increased by a factor of 4."
   ]
  },
  {
   "cell_type": "markdown",
   "metadata": {},
   "source": [
    "In practice, this approach of collecting new samples to estimate the standard error is\n",
    "typically not feasible (and statistically very wasteful). Fortunately, it turns out that it is\n",
    "not necessary to draw brand new samples; instead, you can use bootstrap resamples.\n",
    "In modern statistics, the bootstrap has become the standard way to estimate standard\n",
    "error. It can be used for virtually any statistic and does not rely on the central limit\n",
    "theorem or other distributional assumptions."
   ]
  },
  {
   "cell_type": "markdown",
   "metadata": {},
   "source": [
    "---\n",
    "\n",
    "__Do not confuse standard deviation (which measures the variability\n",
    "of individual data points) with standard error (which measures the\n",
    "variability of a sample metric).__\n",
    "\n",
    "---"
   ]
  },
  {
   "cell_type": "markdown",
   "metadata": {},
   "source": [
    "## The Bootstrap"
   ]
  },
  {
   "cell_type": "markdown",
   "metadata": {},
   "source": [
    "One easy and effective way to estimate the sampling distribution of a statistic, or of\n",
    "model parameters, is to draw additional samples, with replacement, from the sample\n",
    "itself and recalculate the statistic or model for each resample. This procedure is called\n",
    "the bootstrap, and it does not necessarily involve any assumptions about the data or\n",
    "the sample statistic being normally distributed."
   ]
  },
  {
   "cell_type": "markdown",
   "metadata": {},
   "source": [
    "Conceptually, you can imagine the bootstrap as replicating the original sample thousands or millions of times so that you have a hypothetical population that embodies\n",
    "all the knowledge from your original sample (it’s just larger). You can then draw sam‐\n",
    "ples from this hypothetical population for the purpose of estimating a sampling distribution;"
   ]
  },
  {
   "cell_type": "markdown",
   "metadata": {},
   "source": [
    "In practice, it is not necessary to actually replicate the sample a huge number of\n",
    "times. We simply replace each observation after each draw; that is, we sample with\n",
    "replacement. In this way we effectively create an infinite population in which the\n",
    "probability of an element being drawn remains unchanged from draw to draw. The\n",
    "algorithm for a bootstrap resampling of the mean, for a sample of size n, is as follows:"
   ]
  },
  {
   "cell_type": "markdown",
   "metadata": {},
   "source": [
    "1. Draw a sample value, record it, and then replace it.\n",
    "2. Repeat n times.\n",
    "3. Record the mean of the n resampled values.\n",
    "4. Repeat steps 1–3 R times.\n",
    "5. Use the R results to:\n",
    "    * a. Calculate their standard deviation (this estimates sample mean standard\n",
    "        error).\n",
    "    * b. Produce a histogram or boxplot.\n",
    "    * c. Find a confidence interval."
   ]
  },
  {
   "cell_type": "markdown",
   "metadata": {},
   "source": [
    "R, the number of iterations of the bootstrap, is set somewhat arbitrarily. The more\n",
    "iterations you do, the more accurate the estimate of the standard error, or the confi‐\n",
    "dence interval. The result from this procedure is a bootstrap set of sample statistics or\n",
    "estimated model parameters, which you can then examine to see how variable they\n",
    "are."
   ]
  },
  {
   "cell_type": "code",
   "execution_count": 5,
   "metadata": {},
   "outputs": [
    {
     "name": "stdout",
     "output_type": "stream",
     "text": [
      "Bootstrap Statistics:\n",
      "original: 62000.0\n",
      "bias: -82.09799999999814\n",
      "std. error: 228.73933106830927\n"
     ]
    }
   ],
   "source": [
    "from sklearn.utils import resample\n",
    "\n",
    "# bootstrap\n",
    "results = []\n",
    "for nrepeat in range(1000):\n",
    "    sample = resample(loans_income)\n",
    "    results.append(sample.median())\n",
    "results = pd.Series(results)\n",
    "print('Bootstrap Statistics:')\n",
    "print(f'original: {loans_income.median()}')\n",
    "print(f'bias: {results.mean() - loans_income.median()}')\n",
    "print(f'std. error: {results.std()}')"
   ]
  },
  {
   "cell_type": "code",
   "execution_count": 6,
   "metadata": {},
   "outputs": [
    {
     "name": "stdout",
     "output_type": "stream",
     "text": [
      "Bootstrap Statistics:\n",
      "original: 62000.0\n",
      "bias: -84.36899999999878\n",
      "std. error: 237.3956877273712\n"
     ]
    }
   ],
   "source": [
    "# bootstrap\n",
    "results = []\n",
    "for nrepeat in range(1000):\n",
    "    sample = resample(loans_income)\n",
    "    results.append(sample.median())\n",
    "results = pd.Series(results)\n",
    "print('Bootstrap Statistics:')\n",
    "print(f'original: {loans_income.median()}')\n",
    "print(f'bias: {results.mean() - loans_income.median()}')\n",
    "print(f'std. error: {results.std()}')"
   ]
  },
  {
   "cell_type": "markdown",
   "metadata": {},
   "source": [
    "---\n",
    "\n",
    "The bootstrap does not compensate for a small sample size; it does\n",
    "not create new data, nor does it fill in holes in an existing data set.\n",
    "It merely informs us about how lots of additional samples would\n",
    "behave when drawn from a population like our original sample.\n",
    "\n",
    "\n",
    "---"
   ]
  },
  {
   "cell_type": "markdown",
   "metadata": {},
   "source": [
    "The bootstrap can be used with multivariate data, where the rows are sampled as\n",
    "units. A model might then be run on the bootstrapped data, for\n",
    "example, to estimate the stability (variability) of model parameters, or to improve\n",
    "predictive power. With classification and regression trees (also called decision trees),\n",
    "running multiple trees on bootstrap samples and then averaging their predictions (or,\n",
    "with classification, taking a majority vote) generally performs better than using a\n",
    "single tree. This process is called bagging (short for “bootstrap aggregating”)"
   ]
  },
  {
   "cell_type": "markdown",
   "metadata": {},
   "source": [
    "The technique gained\n",
    "its name and took off with the publication of several journal articles and a book by\n",
    "Stanford statistician Bradley Efron in the late 1970s and early 1980s. It was particu‐\n",
    "larly popular among researchers who use statistics but are not statisticians, and for\n",
    "use with metrics or models where mathematical approximations are not readily avail‐\n",
    "able. The sampling distribution of the mean has been well established since 1908; the\n",
    "sampling distribution of many other metrics has not. The bootstrap can be used for\n",
    "sample size determination; experiment with different values for n to see how the sam‐\n",
    "pling distribution is affected.\n",
    "\n",
    "The bootstrap was met with considerable skepticism when it was first introduced; it\n",
    "had the aura to many of spinning gold from straw. This skepticism stemmed from a\n",
    "misunderstanding of the bootstrap’s purpose."
   ]
  },
  {
   "cell_type": "markdown",
   "metadata": {},
   "source": [
    "Sometimes the term resampling is used synonymously with the term bootstrapping, as\n",
    "just outlined. More often, the term resampling also includes permutation procedures, where multiple samples are combined and the\n",
    "sampling may be done without replacement. In any case, the term bootstrap always\n",
    "implies sampling with replacement from an observed data set."
   ]
  },
  {
   "cell_type": "markdown",
   "metadata": {},
   "source": [
    "## Confidence Intervals"
   ]
  },
  {
   "cell_type": "markdown",
   "metadata": {},
   "source": [
    "Frequency tables, histograms, boxplots, and standard errors are all ways to understand the potential error in a sample estimate. Confidence intervals are another."
   ]
  },
  {
   "cell_type": "markdown",
   "metadata": {},
   "source": [
    "There is a natural human aversion to uncertainty; people (especially experts) say “I\n",
    "don’t know” far too rarely. Analysts and managers, while acknowledging uncertainty,\n",
    "nonetheless place undue faith in an estimate when it is presented as a single number\n",
    "(a point estimate). Presenting an estimate not as a single number but as a range is one\n",
    "way to counteract this tendency. Confidence intervals do this in a manner grounded\n",
    "in statistical sampling principles."
   ]
  },
  {
   "cell_type": "markdown",
   "metadata": {},
   "source": [
    "Confidence intervals always come with a coverage level, expressed as a (high) per‐\n",
    "centage, say 90% or 95%. One way to think of a 90% confidence interval is as follows:\n",
    "it is the interval that encloses the central 90% of the bootstrap sampling distribution\n",
    "of a sample statistic."
   ]
  },
  {
   "cell_type": "markdown",
   "metadata": {},
   "source": [
    "More generally, an x% confidence interval around a sample estimate should, on average, contain similar sample\n",
    "estimates x% of the time (when a similar sampling procedure is followed)."
   ]
  },
  {
   "cell_type": "markdown",
   "metadata": {},
   "source": [
    "Given a sample of size n, and a sample statistic of interest, the algorithm for a bootstrap confidence interval is as follows:"
   ]
  },
  {
   "cell_type": "markdown",
   "metadata": {},
   "source": [
    "1. Draw a random sample of size n with replacement from the data (a resample).\n",
    "2. Record the statistic of interest for the resample.\n",
    "3. Repeat steps 1–2 many (R) times.\n",
    "4. For an x% confidence interval, trim [(100-x) / 2]% of the R resample results from\n",
    "either end of the distribution.\n",
    "5. The trim points are the endpoints of an x% bootstrap confidence interval."
   ]
  },
  {
   "cell_type": "code",
   "execution_count": 7,
   "metadata": {},
   "outputs": [
    {
     "name": "stdout",
     "output_type": "stream",
     "text": [
      "68760.51844\n",
      "55734.1\n"
     ]
    },
    {
     "data": {
      "image/png": "[encoded data removed]",
      "text/plain": [
       "<Figure size 720x576 with 1 Axes>"
      ]
     },
     "metadata": {
      "needs_background": "light"
     },
     "output_type": "display_data"
    }
   ],
   "source": [
    "print(loans_income.mean())\n",
    "\n",
    "np.random.seed(seed=3)  \n",
    "# create a sample of 20 loan income data\n",
    "sample20 = resample(loans_income, n_samples=20, replace=False)\n",
    "print(sample20.mean())\n",
    "results = []\n",
    "for nrepeat in range(500):\n",
    "    sample = resample(sample20)\n",
    "    results.append(sample.mean())\n",
    "results = pd.Series(results)\n",
    "\n",
    "confidence_interval = list(results.quantile([0.05, 0.95]))\n",
    "ax = results.plot.hist(bins=30, figsize=(10, 8))\n",
    "ax.plot(confidence_interval, [55, 55], color='black')\n",
    "for x in confidence_interval:\n",
    "    ax.plot([x, x], [0, 65], color='black')\n",
    "    ax.text(x, 70, f'{x:.0f}', \n",
    "            horizontalalignment='center', verticalalignment='center')\n",
    "ax.text(sum(confidence_interval) / 2, 60, '90% interval',\n",
    "        horizontalalignment='center', verticalalignment='center')\n",
    "\n",
    "meanIncome = results.mean()\n",
    "ax.plot([meanIncome, meanIncome], [0, 50], color='black', linestyle='--')\n",
    "ax.text(meanIncome, 10, f'Mean: {meanIncome:.0f}',\n",
    "        bbox=dict(facecolor='white', edgecolor='white', alpha=0.5),\n",
    "        horizontalalignment='center', verticalalignment='center')\n",
    "ax.set_ylim(0, 80)\n",
    "ax.set_ylabel('Counts')\n",
    "\n",
    "plt.tight_layout()\n",
    "plt.show()"
   ]
  },
  {
   "cell_type": "code",
   "execution_count": 8,
   "metadata": {},
   "outputs": [
    {
     "data": {
      "text/plain": [
       "Text(0, 0.5, 'Counts')"
      ]
     },
     "execution_count": 8,
     "metadata": {},
     "output_type": "execute_result"
    },
    {
     "data": {
      "image/png": "[encoded data removed]",
      "text/plain": [
       "<Figure size 720x576 with 1 Axes>"
      ]
     },
     "metadata": {
      "needs_background": "light"
     },
     "output_type": "display_data"
    }
   ],
   "source": [
    "np.random.seed(seed=3)\n",
    "\n",
    "# create a sample of 20 loan income data\n",
    "sample20 = resample(loans_income, n_samples=20, replace=False)\n",
    "\n",
    "results = []\n",
    "for nrepeat in range(500):\n",
    "    sample = resample(sample20)\n",
    "    results.append(sample.mean())\n",
    "results = pd.Series(results)\n",
    "\n",
    "confidence_interval = list(results.quantile([0.05, 0.95]))\n",
    "ax = results.plot.hist(bins=30, figsize=(4, 3), color='C1')\n",
    "ax.plot(confidence_interval, [55, 55], color='black', linestyle='--')\n",
    "for x in confidence_interval:\n",
    "    ax.plot([x, x], [0, 60], color='black')\n",
    "ax.text(82000, 50, \n",
    "        f'90% CI\\n[{confidence_interval[0]:.0f}, {confidence_interval[1]:.0f}]',\n",
    "       fontsize='small')\n",
    "\n",
    "confidence_interval = list(results.quantile([0.025, 0.975]))\n",
    "ax = results.plot.hist(bins=30, figsize=(10, 8))\n",
    "ax.plot(confidence_interval, [65, 65], color='black', linestyle='--')\n",
    "for x in confidence_interval:\n",
    "    ax.plot([x, x], [0, 70], color='black')\n",
    "ax.text(82000, 65, \n",
    "        f'95% CI\\n[{confidence_interval[0]:.0f}, {confidence_interval[1]:.0f}]',\n",
    "       fontsize='small')\n",
    "# ax.text(sum(confidence_interval) / 2, 264, '95 % interval',\n",
    "#         horizontalalignment='center', verticalalignment='center')\n",
    "\n",
    "meanIncome = results.mean()\n",
    "ax.plot([meanIncome, meanIncome], [0, 50], color='black', linestyle='--')\n",
    "ax.text(meanIncome, 5, f'Mean: {meanIncome:.0f}',\n",
    "        bbox=dict(facecolor='white', edgecolor='white', alpha=0.5),\n",
    "        horizontalalignment='center', verticalalignment='center')\n",
    "ax.set_ylim(0, 80)\n",
    "ax.set_xlim(37000, 102000)\n",
    "ax.set_xticks([40000, 50000, 60000, 70000, 80000])\n",
    "ax.set_ylabel('Counts')\n",
    "\n",
    "# plt.tight_layout()\n",
    "# plt.show()"
   ]
  },
  {
   "cell_type": "markdown",
   "metadata": {},
   "source": [
    "The bootstrap is a general tool that can be used to generate confidence intervals for\n",
    "most statistics, or model parameters. Statistical textbooks and software, with roots in\n",
    "over a half century of computerless statistical analysis, will also reference confidence\n",
    "intervals generated by formulas, especially the t-distribution."
   ]
  },
  {
   "cell_type": "markdown",
   "metadata": {},
   "source": [
    "---\n",
    "\n",
    "Of course, what we are really interested in when we have a sample\n",
    "result is, “What is the probability that the true value lies within a\n",
    "certain interval?” This is not really the question that a confidence\n",
    "interval answers, but it ends up being how most people interpret\n",
    "the answer.\n",
    "The probability question associated with a confidence interval\n",
    "starts out with the phrase “Given a sampling procedure and a population, what is the probability that...” To go in the opposite direction, “Given a sample result, what is the probability that\n",
    "(something is true about the population)?” involves more complex\n",
    "calculations and deeper imponderables.\n",
    "\n",
    "---"
   ]
  },
  {
   "cell_type": "markdown",
   "metadata": {},
   "source": [
    "The percentage associated with the confidence interval is termed the level of confidence. The higher the level of confidence, the wider the interval. Also, the smaller the\n",
    "sample, the wider the interval (i.e., the greater the uncertainty). Both make sense: the\n",
    "more confident you want to be, and the less data you have, the wider you must make\n",
    "the confidence interval to be sufficiently assured of capturing the true value."
   ]
  },
  {
   "cell_type": "markdown",
   "metadata": {},
   "source": [
    "For a data scientist, a confidence interval is a tool that can be used\n",
    "to get an idea of how variable a sample result might be. Data scientists would use this information not to publish a scholarly paper or\n",
    "submit a result to a regulatory agency (as a researcher might) but\n",
    "most likely to communicate the potential error in an estimate, and\n",
    "perhaps to learn whether a larger sample is needed."
   ]
  },
  {
   "cell_type": "markdown",
   "metadata": {},
   "source": [
    "## Normal Distribution"
   ]
  },
  {
   "cell_type": "markdown",
   "metadata": {},
   "source": [
    "The bell-shaped normal distribution is iconic in traditional statistics. The fact that\n",
    "distributions of sample statistics are often normally shaped has made it a powerful\n",
    "tool in the development of mathematical formulas that approximate those\n",
    "distributions.\n",
    "\n",
    "In a normal distribution , 68% of the data lies within one standard deviation of the mean, and 95% lies within two standard deviations."
   ]
  },
  {
   "cell_type": "markdown",
   "metadata": {},
   "source": [
    "It is a common misconception that the normal distribution is\n",
    "called that because most data follows a normal distribution—that\n",
    "is, it is the normal thing. Most of the variables used in a typical data\n",
    "science project—in fact, most raw data as a whole—are not normally distributed. The\n",
    "utility of the normal distribution derives from the fact that many\n",
    "statistics are normally distributed in their sampling distribution.\n",
    "Even so, assumptions of normality are generally a last resort, used\n",
    "when empirical probability distributions, or bootstrap distributions, are not available."
   ]
  },
  {
   "cell_type": "markdown",
   "metadata": {},
   "source": [
    "---\n",
    "\n",
    "The normal distribution is also referred to as a Gaussian distribution after Carl Friedrich Gauss, a prodigious German mathematician from the late 18th and early 19th centuries. Another name\n",
    "previously used for the normal distribution was the “error” distribution. Statistically speaking, an error is the difference between an\n",
    "actual value and a statistical estimate like the sample mean. For\n",
    "example, the standard deviation (see “Estimates of Variability” on\n",
    "page 13) is based on the errors from the mean of the data. Gauss’s\n",
    "development of the normal distribution came from his study of the\n",
    "errors of astronomical measurements that were found to be normally distributed.\n",
    "\n",
    "---"
   ]
  },
  {
   "cell_type": "markdown",
   "metadata": {},
   "source": [
    "A standard normal distribution is one in which the units on the x-axis are expressed\n",
    "in terms of standard deviations away from the mean. To compare data to a standard\n",
    "normal distribution, you subtract the mean and then divide by the standard deviation; this is also called normalization or standardization. Note that “standardization” in this sense is\n",
    "unrelated to database record standardization (conversion to a common format). The\n",
    "transformed value is termed a z-score, and the normal distribution is sometimes\n",
    "called the z-distribution."
   ]
  },
  {
   "cell_type": "markdown",
   "metadata": {},
   "source": [
    "A QQ-Plot is used to visually determine how close a sample is to a specified distribution—in this case, the normal distribution. The QQ-Plot orders the z-scores from low\n",
    "to high and plots each value’s z-score on the y-axis; the x-axis is the corresponding\n",
    "quantile of a normal distribution for that value’s rank. Since the data is normalized,\n",
    "the units correspond to the number of standard deviations away from the mean. If\n",
    "the points roughly fall on the diagonal line, then the sample distribution can be considered close to normal."
   ]
  },
  {
   "cell_type": "code",
   "execution_count": 9,
   "metadata": {},
   "outputs": [
    {
     "data": {
      "text/plain": [
       "((array([-2.46203784, -2.12570747, -1.93122778, -1.79044653, -1.67819304,\n",
       "         -1.58381122, -1.50174123, -1.42869743, -1.36256869, -1.30191411,\n",
       "         -1.24570419, -1.19317644, -1.14374949, -1.09696931, -1.05247413,\n",
       "         -1.00997067, -0.96921765, -0.93001393, -0.89218993, -0.85560121,\n",
       "         -0.82012357, -0.78564937, -0.75208458, -0.71934648, -0.68736185,\n",
       "         -0.65606548, -0.62539893, -0.59530962, -0.56574992, -0.53667655,\n",
       "         -0.50804994, -0.47983378, -0.45199463, -0.42450149, -0.39732558,\n",
       "         -0.37044003, -0.34381966, -0.31744076, -0.29128096, -0.26531902,\n",
       "         -0.23953472, -0.21390872, -0.18842244, -0.16305799, -0.13779803,\n",
       "         -0.1126257 , -0.08752455, -0.06247843, -0.03747145, -0.01248789,\n",
       "          0.01248789,  0.03747145,  0.06247843,  0.08752455,  0.1126257 ,\n",
       "          0.13779803,  0.16305799,  0.18842244,  0.21390872,  0.23953472,\n",
       "          0.26531902,  0.29128096,  0.31744076,  0.34381966,  0.37044003,\n",
       "          0.39732558,  0.42450149,  0.45199463,  0.47983378,  0.50804994,\n",
       "          0.53667655,  0.56574992,  0.59530962,  0.62539893,  0.65606548,\n",
       "          0.68736185,  0.71934648,  0.75208458,  0.78564937,  0.82012357,\n",
       "          0.85560121,  0.89218993,  0.93001393,  0.96921765,  1.00997067,\n",
       "          1.05247413,  1.09696931,  1.14374949,  1.19317644,  1.24570419,\n",
       "          1.30191411,  1.36256869,  1.42869743,  1.50174123,  1.58381122,\n",
       "          1.67819304,  1.79044653,  1.93122778,  2.12570747,  2.46203784]),\n",
       "  array([-2.79393242, -2.59487121, -2.02035435, -1.87599563, -1.73485707,\n",
       "         -1.63228617, -1.55681962, -1.49163578, -1.4327014 , -1.42989811,\n",
       "         -1.4207501 , -1.3182805 , -1.09769151, -1.0623669 , -0.9946764 ,\n",
       "         -0.97159627, -0.89206423, -0.78510482, -0.78494933, -0.77157842,\n",
       "         -0.77094362, -0.76697107, -0.75257428, -0.66944973, -0.58872904,\n",
       "         -0.54879267, -0.52131188, -0.48416392, -0.48319796, -0.46658781,\n",
       "         -0.42506964, -0.3994355 , -0.39367197, -0.23857026, -0.23446477,\n",
       "         -0.2044998 , -0.13124292, -0.09134624, -0.0841133 , -0.07735789,\n",
       "         -0.0173962 , -0.00729722,  0.00529632,  0.00839662,  0.02034079,\n",
       "          0.03812354,  0.05242824,  0.07479037,  0.08116927,  0.10205957,\n",
       "          0.14211646,  0.21341862,  0.23453535,  0.25431588,  0.31325138,\n",
       "          0.31826821,  0.34094714,  0.3419838 ,  0.40591605,  0.41232038,\n",
       "          0.44348936,  0.45610871,  0.46600353,  0.46647847,  0.49503877,\n",
       "          0.51022836,  0.51229405,  0.56626115,  0.58076076,  0.60070412,\n",
       "          0.61748604,  0.66726236,  0.77503866,  0.8036429 ,  0.90472491,\n",
       "          0.90945274,  0.9783171 ,  0.98766981,  0.99801972,  1.00869003,\n",
       "          1.01452343,  1.02337123,  1.03121051,  1.09164986,  1.13049289,\n",
       "          1.13733957,  1.14431359,  1.18792432,  1.23980867,  1.33141786,\n",
       "          1.34763389,  1.36841017,  1.42543809,  1.51274962,  1.55781521,\n",
       "          1.78588894,  1.85807879,  1.91350625,  1.97804652,  2.55594494])),\n",
       " (1.0465857597710437, 0.08723315949200959, 0.9946442657519138))"
      ]
     },
     "execution_count": 9,
     "metadata": {},
     "output_type": "execute_result"
    },
    {
     "data": {
      "image/png": "[encoded data removed]",
      "text/plain": [
       "<Figure size 720x576 with 1 Axes>"
      ]
     },
     "metadata": {
      "needs_background": "light"
     },
     "output_type": "display_data"
    }
   ],
   "source": [
    "fig, ax = plt.subplots(figsize=(10, 8))\n",
    "norm_sample = stats.norm.rvs(size=100)\n",
    "stats.probplot(norm_sample, plot=ax)"
   ]
  },
  {
   "cell_type": "markdown",
   "metadata": {},
   "source": [
    "---\n",
    "__Converting data to z-scores (i.e., standardizing or normalizing the\n",
    "data) does not make the data normally distributed. It just puts the\n",
    "data on the same scale as the standard normal distribution, often\n",
    "for comparison purposes.__\n",
    "\n",
    "---"
   ]
  },
  {
   "cell_type": "markdown",
   "metadata": {},
   "source": [
    "## Long Tailed Distributions"
   ]
  },
  {
   "cell_type": "markdown",
   "metadata": {},
   "source": [
    "Despite the importance of the normal distribution historically in statistics, and in\n",
    "contrast to what the name would suggest, data is generally not normally distributed."
   ]
  },
  {
   "cell_type": "markdown",
   "metadata": {},
   "source": [
    "While the normal distribution is often appropriate and useful with respect to the distribution of errors and sample statistics, it typically does not characterize the distribution of raw data. Sometimes, the distribution is highly skewed (asymmetric), such as\n",
    "with income data; or the distribution can be discrete, as with binomial data. Both\n",
    "symmetric and asymmetric distributions may have long tails. The tails of a distribution correspond to the extreme values (small and large). Long tails, and guarding\n",
    "against them, are widely recognized in practical work. Nassim Taleb has proposed the\n",
    "black swan theory, which predicts that anomalous events, such as a stock market\n",
    "crash, are much more likely to occur than would be predicted by the normal\n",
    "distribution.\n",
    "\n",
    "A good example to illustrate the long-tailed nature of data is stock returns."
   ]
  },
  {
   "cell_type": "code",
   "execution_count": 10,
   "metadata": {},
   "outputs": [
    {
     "data": {
      "image/png": "[encoded data removed]",
      "text/plain": [
       "<Figure size 288x288 with 1 Axes>"
      ]
     },
     "metadata": {
      "needs_background": "light"
     },
     "output_type": "display_data"
    }
   ],
   "source": [
    "SP500_DATA_CSV = '../data/sp500_data.csv.gz'\n",
    "sp500_px = pd.read_csv(SP500_DATA_CSV)\n",
    "\n",
    "nflx = sp500_px.NFLX\n",
    "nflx = np.diff(np.log(nflx[nflx>0]))\n",
    "\n",
    "fig, ax = plt.subplots(figsize=(4, 4))\n",
    "stats.probplot(nflx, plot=ax)\n",
    "\n",
    "plt.tight_layout()\n",
    "plt.show()"
   ]
  },
  {
   "cell_type": "markdown",
   "metadata": {},
   "source": [
    "The points are far below the line for low values and far\n",
    "above the line for high values, indicating the data are not normally distributed. This\n",
    "means that we are much more likely to observe extreme values than would be\n",
    "expected if the data had a normal distribution."
   ]
  },
  {
   "cell_type": "markdown",
   "metadata": {},
   "source": [
    "The figure shows another common\n",
    "phenomenon: the points are close to the line for the data within one standard devia‐\n",
    "tion of the mean. Tukey refers to this phenomenon as data being “normal in the mid‐\n",
    "dle” but having much longer tails."
   ]
  },
  {
   "cell_type": "markdown",
   "metadata": {},
   "source": [
    "There is much statistical literature about the task of fitting statistical distributions to observed data. Beware an excessively datacentric approach to this job, which is as much art as science. Data is\n",
    "variable, and often consistent, on its face, with more than one\n",
    "shape and type of distribution. It is typically the case that domain\n",
    "and statistical knowledge must be brought to bear to determine\n",
    "what type of distribution is appropriate to model a given situation.\n",
    "For example, we might have data on the level of internet traffic on a\n",
    "server over many consecutive five-second periods. It is useful to\n",
    "know that the best distribution to model “events per time period” is\n",
    "the Poisson."
   ]
  },
  {
   "cell_type": "markdown",
   "metadata": {},
   "source": [
    "## t-distribution\n",
    "The t-distribution is a normally shaped distribution, except that it is a bit thicker and\n",
    "longer on the tails. It is used extensively in depicting distributions of sample statistics.\n",
    "Distributions of sample means are typically shaped like a t-distribution, and there is a\n",
    "family of t-distributions that differ depending on how large the sample is. The larger\n",
    "the sample, the more normally shaped the t-distribution becomes."
   ]
  },
  {
   "cell_type": "markdown",
   "metadata": {},
   "source": [
    "The t-distribution is often called Student’s t because it was published in 1908 in Biometrika by W. S. Gosset under the name “Student.” Gosset’s employer, the Guinness\n",
    "brewery, did not want competitors to know that it was using statistical methods, so it\n",
    "insisted that Gosset not use his name on the article."
   ]
  },
  {
   "cell_type": "markdown",
   "metadata": {},
   "source": [
    "Gosset wanted to answer the question “What is the sampling distribution of the mean\n",
    "of a sample, drawn from a larger population?” He started out with a resampling\n",
    "experiment—drawing random samples of 4 from a data set of 3,000 measurements of\n",
    "criminals’ height and left-middle-finger length. (This being the era of eugenics, there\n",
    "was much interest in data on criminals, and in discovering correlations between\n",
    "criminal tendencies and physical or psychological attributes.) Gosset plotted the standardized results (the z-scores) on the x-axis and the frequency on the y-axis. Separately, he had derived a function, now known as Student’s t, and he fit this function\n",
    "over the sample results, plotting the comparison."
   ]
  },
  {
   "cell_type": "markdown",
   "metadata": {},
   "source": [
    "A number of different statistics can be compared, after standardization, to the t-\n",
    "distribution, to estimate confidence intervals in light of sampling variation. Consider\n",
    "a sample of size n for which the sample mean x has been calculated. If s is the sample\n",
    "standard deviation, a 90% confidence interval around the sample mean is given by:"
   ]
  },
  {
   "cell_type": "markdown",
   "metadata": {},
   "source": [
    "$$ \\bar{x} \\pm t_{n-1} (0.05) \\cdot \\frac{s}{\\sqrt{n}} $$"
   ]
  },
  {
   "cell_type": "markdown",
   "metadata": {},
   "source": [
    "where $t_{n-1}(0.05)$ is the value of the t-statistic with (n - 1) degrees\n",
    "of freedom, that chops off 5% of the t-distribution at either end.\n",
    "The t-distribution has been used as a reference for the distribution of a sample\n",
    "mean, the difference between two sample means, regression parameters, and other\n",
    "statistics."
   ]
  },
  {
   "cell_type": "markdown",
   "metadata": {},
   "source": [
    "Had computing power been widely available in 1908, statistics would no doubt have\n",
    "relied much more heavily on computationally intensive resampling methods from the\n",
    "start. Lacking computers, statisticians turned to mathematics and functions such as\n",
    "the t-distribution to approximate sampling distributions. Computer power enabled\n",
    "practical resampling experiments in the 1980s, but by then, use of the t-distribution\n",
    "and similar distributions had become deeply embedded in textbooks and software.\n",
    "The t-distribution’s accuracy in depicting the behavior of a sample statistic requires\n",
    "that the distribution of that statistic for that sample be shaped like a normal distribution. It turns out that sample statistics are often normally distributed, even when the\n",
    "underlying population data is not (a fact which led to widespread application of the t-distribution). This brings us back to the phenomenon known as the central limit theorem."
   ]
  },
  {
   "cell_type": "markdown",
   "metadata": {},
   "source": [
    "The t-distribution is actually a family of distributions resembling the normal distribution but with thicker tails.\n",
    "\n",
    "The t-distribution is widely used as a reference basis for the distribution of sample means, differences between two sample means, regression parameters, and\n",
    "more."
   ]
  }
 ],
 "metadata": {
  "kernelspec": {
   "display_name": "Python 3",
   "language": "python",
   "name": "python3"
  },
  "language_info": {
   "codemirror_mode": {
    "name": "ipython",
    "version": 3
   },
   "file_extension": ".py",
   "mimetype": "text/x-python",
   "name": "python",
   "nbconvert_exporter": "python",
   "pygments_lexer": "ipython3",
   "version": "3.9.0"
  }
 },
 "nbformat": 4,
 "nbformat_minor": 4
}
