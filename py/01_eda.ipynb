{
 "cells": [
  {
   "cell_type": "markdown",
   "metadata": {},
   "source": [
    "# __Chapter 01__"
   ]
  },
  {
   "cell_type": "markdown",
   "metadata": {},
   "source": [
    "# Exploratory Data Analysis"
   ]
  },
  {
   "cell_type": "markdown",
   "metadata": {},
   "source": [
    "## Elements of Structured Data"
   ]
  },
  {
   "cell_type": "markdown",
   "metadata": {},
   "source": [
    "There are two basic types of structured data: __numeric__ and __categorical__.\n",
    "\n",
    "_Numeric_ data\n",
    "comes in two forms:\n",
    "1. continuous, such as wind speed or time duration,\n",
    "2. and discrete,\n",
    "such as the count of the occurrence of an event.\n",
    "\n",
    "_Categorical_ data takes only a fixed set\n",
    "of values, such as a type of TV screen (plasma, LCD, LED, etc.) or a state name (Ala‐\n",
    "bama, Alaska, etc.).\n",
    "- Binary data is an important special case of categorical data that\n",
    "takes on only one of two values, such as 0/1, yes/no, or true/false.\n",
    "- Another useful type\n",
    "of categorical data is ordinal data in which the categories are ordered; an example of\n",
    "this is a numerical rating (1, 2, 3, 4, or 5)."
   ]
  },
  {
   "cell_type": "markdown",
   "metadata": {},
   "source": [
    "Why do we bother with a taxonomy of data types? It turns out that for the purposes\n",
    "of data analysis and predictive modeling, the data type is important to help determine\n",
    "the type of visual display, data analysis, or statistical model."
   ]
  },
  {
   "cell_type": "markdown",
   "metadata": {},
   "source": [
    "Software engineers and database programmers may wonder why we even need the\n",
    "notion of categorical and ordinal data for analytics. After all, categories are merely a\n",
    "collection of text (or numeric) values, and the underlying database automatically han‐\n",
    "dles the internal representation. However, explicit identification of data as categorical,\n",
    "as distinct from text, does offer some advantages"
   ]
  },
  {
   "cell_type": "markdown",
   "metadata": {},
   "source": [
    "* Knowing that data is categorical can act as a signal telling software how statistical\n",
    "procedures, such as producing a chart or fitting a model, should behave. In particular, ordinal data can be represented as an ordered.factor in R, preserving a\n",
    "user-specified ordering in charts, tables, and models. In Python, scikit-learn\n",
    "supports ordinal data with the sklearn.preprocessing.OrdinalEncoder .\n",
    "* Storage and indexing can be optimized (as in a relational database).\n",
    "* The possible values a given categorical variable can take are enforced in the software (like an enum)."
   ]
  },
  {
   "cell_type": "markdown",
   "metadata": {},
   "source": [
    "## Rectangular Data"
   ]
  },
  {
   "cell_type": "markdown",
   "metadata": {},
   "source": [
    "The typical frame of reference for an analysis in data science is a rectangular data\n",
    "object, like a spreadsheet or database table.\n",
    "Rectangular data is the general term for a two-dimensional matrix with rows indicating records (cases) and columns indicating features (variables)."
   ]
  },
  {
   "cell_type": "markdown",
   "metadata": {},
   "source": [
    "__Data frame__\n",
    "* Rectangular data (like a spreadsheet) is the basic data structure for statistical and\n",
    "machine learning models.\n",
    "\n",
    "__Feature__\n",
    "* A column within a table is commonly referred to as a feature.\n",
    "Synonyms: attribute, input, predictor, variable\n",
    "\n",
    "__Outcome__\n",
    "* Many data science projects involve predicting an outcome—often a yes/no out‐\n",
    "come (in Table 1-1, it is “auction was competitive or not”). The features are some‐\n",
    "times used to predict the outcome in an experiment or a study.\n",
    "Synonyms: dependent variable, response, target, output\n",
    "\n",
    "__Records__\n",
    "* A row within a table is commonly referred to as a record.\n",
    "Synonyms: case, example, instance, observation, pattern, sample"
   ]
  },
  {
   "cell_type": "markdown",
   "metadata": {},
   "source": [
    "## Data Frames and Indexes"
   ]
  },
  {
   "cell_type": "markdown",
   "metadata": {},
   "source": [
    "Traditional database tables have one or more columns designated as an index, essentially a row number. This can vastly improve the efficiency of certain database queries"
   ]
  },
  {
   "cell_type": "markdown",
   "metadata": {},
   "source": [
    "## Estimates of Location"
   ]
  },
  {
   "cell_type": "markdown",
   "metadata": {},
   "source": [
    "Variables with measured or count data might have thousands of distinct values. A\n",
    "basic step in exploring your data is getting a “typical value” for each feature (variable):\n",
    "an estimate of where most of the data is located (i.e., its central tendency)."
   ]
  },
  {
   "cell_type": "markdown",
   "metadata": {},
   "source": [
    "### Key Terms for Estimates of Location"
   ]
  },
  {
   "cell_type": "markdown",
   "metadata": {},
   "source": [
    "__Mean__:\n",
    "* The sum of all values divided by the number of values.\n",
    "    Synonym: avergae\n",
    "\n",
    "__Weighted mean__:\n",
    "* The sum of all values times a weight divided by the sum of the weights.\n",
    "    Synonym: wighted average.\n",
    "    \n",
    "__Median__:\n",
    "* The value such that one-half of the data lies above and below.\n",
    "    Synonym: 50th Percentile\n",
    "\n",
    "__Percentile__:\n",
    "* The value such that $P$ percent of the data lies below.\n",
    "    Synonym: quantile.\n",
    "    \n",
    "__Weighted median__:\n",
    "* The value such that one-half of the sum of the weights lies above and below the\n",
    "    sorted data.\n",
    "\n",
    "__Trimmed mean__:\n",
    "* The average of all values after dropping a fixed number of extreme values.\n",
    "    Synonym: truncated mean,\n",
    "    \n",
    "__Robuts__:\n",
    "* Non sensitive to extreme values. Synonym: resistant.\n",
    "\n",
    "__Outlier__:\n",
    "* A data value that is very different from most of the data.\n",
    "    Synonym: extreme value."
   ]
  },
  {
   "cell_type": "markdown",
   "metadata": {},
   "source": [
    "Statisticians often use the term estimate for a value calculated from\n",
    "the data at hand, to draw a distinction between what we see from\n",
    "the data and the theoretical true or exact state of affairs. Data scientists and business analysts are more likely to refer to such a value as\n",
    "a metric. The difference reflects the approach of statistics versus\n",
    "that of data science: accounting for uncertainty lies at the heart of\n",
    "the discipline of statistics, whereas concrete business or organizational objectives are the focus of data science. Hence, statisticians\n",
    "estimate, and data scientists measure."
   ]
  },
  {
   "cell_type": "markdown",
   "metadata": {},
   "source": [
    "### Mean\n",
    "The most basic estimate of location is the __mean__, or average value. The mean is the\n",
    "sum of all values divided by the number of values.\n",
    "The formula to compute the mean for a set of $n$ values $x_1 , x_2 , ..., x_n$ is:\n",
    "\n",
    "$$ \\bar{x} = \\frac{\\sum_{i = 1}^{n} x_i}{n}$$"
   ]
  },
  {
   "cell_type": "markdown",
   "metadata": {},
   "source": [
    "N (or n) refers to the total number of records or observations. In\n",
    "statistics it is capitalized if it is referring to a population, and lowercase if it refers to a sample from a population. In data science, that\n",
    "distinction is not vital, so you may see it both ways."
   ]
  },
  {
   "cell_type": "markdown",
   "metadata": {},
   "source": [
    "A variation of the mean is a __trimmed mean__, which you calculate by dropping a fixed\n",
    "number of sorted values at each end and then taking an average of the remaining val‐\n",
    "ues. Representing the sorted values by $x_1 , x_2 , ..., x_n$ where $x_1$ is the smallest value\n",
    "and $x_n$ the largest, the formula to compute the trimmed mean with p smallest and\n",
    "largest values omitted is:\n",
    "\n",
    "$$ \\bar{x} = \\frac{\\sum_{i = p + 1}^{n - p} x_{(i)}}{n - 2p}$$"
   ]
  },
  {
   "cell_type": "markdown",
   "metadata": {},
   "source": [
    "A trimmed mean eliminates the influence of extreme values. For example, in international diving the top score and bottom score from five judges are dropped, and the\n",
    "final score is the average of the scores from the three remaining judges. This makes it\n",
    "difficult for a single judge to manipulate the score, perhaps to favor their country’s\n",
    "contestant. Trimmed means are widely used, and in many cases are preferable to\n",
    "using the ordinary mean."
   ]
  },
  {
   "cell_type": "markdown",
   "metadata": {},
   "source": [
    "Another type of mean is a __weighted mean__, which you calculate by multiplying each\n",
    "data value $x_i$ by a user-specified weight $w$ i and dividing their sum by the sum of the\n",
    "weights. The formula for a weighted mean is:\n",
    "\n",
    "$$ \\bar{x_w} = \\frac{\\sum_{i = 1}^{n} w_i x_i}{\\sum_{i = 1}^{n} w_i}$$"
   ]
  },
  {
   "cell_type": "markdown",
   "metadata": {},
   "source": [
    "There are two main motivations for using a weighted mean:\n",
    "* Some values are intrinsically more variable than others, and highly variable\n",
    "observations are given a lower weight. For example, if we are taking the average\n",
    "from multiple sensors and one of the sensors is less accurate, then we might\n",
    "downweight the data from that sensor.\n",
    "* The data collected does not equally represent the different groups that we are\n",
    "interested in measuring. For example, because of the way an online experiment\n",
    "was conducted, we may not have a set of data that accurately reflects all groups in\n",
    "the user base. To correct that, we can give a higher weight to the values from the\n",
    "groups that were underrepresented."
   ]
  },
  {
   "cell_type": "markdown",
   "metadata": {},
   "source": [
    "### Median and Robust Estimates"
   ]
  },
  {
   "cell_type": "markdown",
   "metadata": {},
   "source": [
    "The median is the middle number on a sorted list of the data. If there is an even number of data values, the middle value is one that is not actually in the data set, but\n",
    "rather the average of the two values that divide the sorted data into upper and lower\n",
    "halves. Compared to the mean, which uses all observations, the median depends only\n",
    "on the values in the center of the sorted data."
   ]
  },
  {
   "cell_type": "markdown",
   "metadata": {},
   "source": [
    "While this might seem to be a disadvan‐\n",
    "tage, since the mean is much more sensitive to the data, there are many instances in\n",
    "which the median is a better metric for location. Let’s say we want to look at typical\n",
    "household incomes in neighborhoods around Lake Washington in Seattle. In comparing the Medina neighborhood to the Windermere neighborhood, using the mean\n",
    "would produce very different results because Bill Gates lives in Medina. If we use the\n",
    "median, it won’t matter how rich Bill Gates is—the position of the middle observation\n",
    "will remain the same.\n",
    "\n",
    "For the same reasons that one uses a weighted mean, it is also possible to compute a\n",
    "weighted median. As with the median, we first sort the data, although each data value\n",
    "has an associated weight. Instead of the middle number, the weighted median is a\n",
    "value such that the sum of the weights is equal for the lower and upper halves of the\n",
    "sorted list. Like the median, the weighted median is robust to outliers."
   ]
  },
  {
   "cell_type": "markdown",
   "metadata": {},
   "source": [
    "### Outliers\n",
    "The median is referred to as a robust estimate of location since it is not influenced by\n",
    "outliers (extreme cases) that could skew the results. An outlier is any value that is very\n",
    "distant from the other values in a data set.\n",
    "\n",
    "Being an outlier in itself does\n",
    "not make a data value invalid or erroneous (as in the previous example with Bill\n",
    "Gates). Still, outliers are often the result of data errors such as mixing data of different\n",
    "units (kilometers versus meters) or bad readings from a sensor. When outliers are the\n",
    "result of bad data, the mean will result in a poor estimate of location, while the\n",
    "median will still be valid. In any case, outliers should be identified and are usually\n",
    "worthy of further investigation.\n",
    "\n",
    "#### Anomaly Detection\n",
    "In contrast to typical data analysis, where outliers are sometimes\n",
    "informative and sometimes a nuisance, in anomaly detection the\n",
    "points of interest are the outliers, and the greater mass of data\n",
    "serves primarily to define the “normal” against which anomalies\n",
    "are measured."
   ]
  },
  {
   "cell_type": "markdown",
   "metadata": {},
   "source": [
    "The median is not the only robust estimate of location. In fact, a trimmed mean is\n",
    "widely used to avoid the influence of outliers. For example, trimming the bottom and\n",
    "top 10% (a common choice) of the data will provide protection against outliers in all\n",
    "but the smallest data sets. The trimmed mean can be thought of as a compromise\n",
    "between the median and the mean: it is robust to extreme values in the data, but uses\n",
    "more data to calculate the estimate for location."
   ]
  },
  {
   "cell_type": "markdown",
   "metadata": {},
   "source": [
    "#### Other Robust Metrics for Location\n",
    "Statisticians have developed a plethora of other estimators for location, primarily with the goal of developing an estimator more\n",
    "robust than the mean and also more efficient (i.e., better able to\n",
    "discern small location differences between data sets). While these\n",
    "methods are potentially useful for small data sets, they are not\n",
    "likely to provide added benefit for large or even moderately sized\n",
    "data sets."
   ]
  },
  {
   "cell_type": "markdown",
   "metadata": {},
   "source": [
    "### Example: Location Estimates of Population and Murder Rates"
   ]
  },
  {
   "cell_type": "markdown",
   "metadata": {},
   "source": [
    "Example shows the first few rows in the data set containing population and murder\n",
    "rates (in units of murders per 100,000 people per year) for each US state (2010\n",
    "Census)."
   ]
  },
  {
   "cell_type": "code",
   "execution_count": 1,
   "metadata": {},
   "outputs": [],
   "source": [
    "import numpy as np\n",
    "from scipy import stats\n",
    "import pandas as pd"
   ]
  },
  {
   "cell_type": "code",
   "execution_count": 2,
   "metadata": {},
   "outputs": [],
   "source": [
    "state = pd.read_csv('../data/state.csv')"
   ]
  },
  {
   "cell_type": "code",
   "execution_count": 3,
   "metadata": {},
   "outputs": [
    {
     "data": {
      "text/html": [
       "<div>\n",
       "<style scoped>\n",
       "    .dataframe tbody tr th:only-of-type {\n",
       "        vertical-align: middle;\n",
       "    }\n",
       "\n",
       "    .dataframe tbody tr th {\n",
       "        vertical-align: top;\n",
       "    }\n",
       "\n",
       "    .dataframe thead th {\n",
       "        text-align: right;\n",
       "    }\n",
       "</style>\n",
       "<table border=\"1\" class=\"dataframe\">\n",
       "  <thead>\n",
       "    <tr style=\"text-align: right;\">\n",
       "      <th></th>\n",
       "      <th>State</th>\n",
       "      <th>Population</th>\n",
       "      <th>Murder.Rate</th>\n",
       "      <th>Abbreviation</th>\n",
       "    </tr>\n",
       "  </thead>\n",
       "  <tbody>\n",
       "    <tr>\n",
       "      <th>0</th>\n",
       "      <td>Alabama</td>\n",
       "      <td>4779736</td>\n",
       "      <td>5.7</td>\n",
       "      <td>AL</td>\n",
       "    </tr>\n",
       "    <tr>\n",
       "      <th>1</th>\n",
       "      <td>Alaska</td>\n",
       "      <td>710231</td>\n",
       "      <td>5.6</td>\n",
       "      <td>AK</td>\n",
       "    </tr>\n",
       "    <tr>\n",
       "      <th>2</th>\n",
       "      <td>Arizona</td>\n",
       "      <td>6392017</td>\n",
       "      <td>4.7</td>\n",
       "      <td>AZ</td>\n",
       "    </tr>\n",
       "    <tr>\n",
       "      <th>3</th>\n",
       "      <td>Arkansas</td>\n",
       "      <td>2915918</td>\n",
       "      <td>5.6</td>\n",
       "      <td>AR</td>\n",
       "    </tr>\n",
       "    <tr>\n",
       "      <th>4</th>\n",
       "      <td>California</td>\n",
       "      <td>37253956</td>\n",
       "      <td>4.4</td>\n",
       "      <td>CA</td>\n",
       "    </tr>\n",
       "  </tbody>\n",
       "</table>\n",
       "</div>"
      ],
      "text/plain": [
       "        State  Population  Murder.Rate Abbreviation\n",
       "0     Alabama     4779736          5.7           AL\n",
       "1      Alaska      710231          5.6           AK\n",
       "2     Arizona     6392017          4.7           AZ\n",
       "3    Arkansas     2915918          5.6           AR\n",
       "4  California    37253956          4.4           CA"
      ]
     },
     "execution_count": 3,
     "metadata": {},
     "output_type": "execute_result"
    }
   ],
   "source": [
    "state.head()"
   ]
  },
  {
   "cell_type": "code",
   "execution_count": 4,
   "metadata": {},
   "outputs": [
    {
     "data": {
      "text/plain": [
       "6162876.3"
      ]
     },
     "execution_count": 4,
     "metadata": {},
     "output_type": "execute_result"
    }
   ],
   "source": [
    "state['Population'].mean()"
   ]
  },
  {
   "cell_type": "code",
   "execution_count": 5,
   "metadata": {},
   "outputs": [
    {
     "data": {
      "text/plain": [
       "4783697.125"
      ]
     },
     "execution_count": 5,
     "metadata": {},
     "output_type": "execute_result"
    }
   ],
   "source": [
    "stats.trim_mean(state['Population'], 0.1)"
   ]
  },
  {
   "cell_type": "code",
   "execution_count": 6,
   "metadata": {},
   "outputs": [
    {
     "data": {
      "text/plain": [
       "4436369.5"
      ]
     },
     "execution_count": 6,
     "metadata": {},
     "output_type": "execute_result"
    }
   ],
   "source": [
    "state['Population'].median()"
   ]
  },
  {
   "cell_type": "markdown",
   "metadata": {},
   "source": [
    "The mean is bigger than the trimmed mean, which is bigger than the median."
   ]
  },
  {
   "cell_type": "markdown",
   "metadata": {},
   "source": [
    "This is because the trimmed mean excludes the largest and smallest five states\n",
    "( `trim = 0.1` drops 10% from each end). If we want to compute the average murder rate\n",
    "for the country, we need to use a weighted mean or median to account for different\n",
    "populations in the states."
   ]
  },
  {
   "cell_type": "markdown",
   "metadata": {},
   "source": [
    "Weighted mean is available with NumPy"
   ]
  },
  {
   "cell_type": "code",
   "execution_count": 7,
   "metadata": {},
   "outputs": [
    {
     "data": {
      "text/plain": [
       "4.445833981123393"
      ]
     },
     "execution_count": 7,
     "metadata": {},
     "output_type": "execute_result"
    }
   ],
   "source": [
    "np.average(state['Murder.Rate'], weights = state['Population'])"
   ]
  },
  {
   "cell_type": "markdown",
   "metadata": {},
   "source": [
    "For weighted median, we can use the specialized package wquantiles"
   ]
  },
  {
   "cell_type": "code",
   "execution_count": 9,
   "metadata": {},
   "outputs": [
    {
     "data": {
      "text/plain": [
       "4.4"
      ]
     },
     "execution_count": 9,
     "metadata": {},
     "output_type": "execute_result"
    }
   ],
   "source": [
    "import wquantiles\n",
    "wquantiles.median(state['Murder.Rate'], weights = state['Population'])"
   ]
  },
  {
   "cell_type": "markdown",
   "metadata": {},
   "source": [
    "In statistics, a __central tendency__ (or measure of central tendency) is a central or typical value for a probability distribution. It may also be called a center or location of the distribution. Colloquially, measures of central tendency are often called averages. The term central tendency dates from the late 1920s.\n",
    "\n",
    "The most common measures of __central tendency__ are the arithmetic mean, the median, and the mode. A middle tendency can be calculated for either a finite set of values or for a theoretical distribution, such as the normal distribution. Occasionally authors use central tendency to denote \"the tendency of quantitative data to cluster around some central value.\n",
    "\n",
    "The central tendency of a distribution is typically contrasted with its __dispersion__ or __variability__; dispersion and central tendency are the often characterized properties of distributions. Analysis may judge whether data has a strong or a weak central tendency based on its dispersion. "
   ]
  },
  {
   "cell_type": "markdown",
   "metadata": {},
   "source": [
    "The following may be applied to one-dimensional data. Depending on the circumstances, it may be appropriate to transform the data before calculating a central tendency. Examples are squaring the values or taking logarithms. Whether a transformation is appropriate and what it should be, depend heavily on the data being analyzed.\n",
    "\n",
    "__Arithmetic mean__ or simply, __mean__\n",
    "*    the sum of all measurements divided by the number of observations in the data set.\n",
    "\n",
    "__Median__\n",
    "*    the middle value that separates the higher half from the lower half of the data set. __The median and the mode are the only measures of central tendency that can be used for ordinal data, in which values are ranked relative to each other but are not measured absolutely__.\n",
    "\n",
    "__Mode__\n",
    "*    the most frequent value in the data set. __This is the only central tendency measure that can be used with nominal data, which have purely qualitative category assignments__.\n",
    "\n",
    "__Geometric mean__\n",
    "*    the nth root of the product of the data values, where there are n of these. This measure is valid only for data that are measured absolutely on a strictly positive scale.\n",
    "\n",
    "$$ G = \\Big( \\prod_{i = 1}^{n} x_i \\Big) ^{\\frac{1}{n}} = \\sqrt[n]{x_1 x_2 ... x_n}$$\n",
    "\n",
    "__Harmonic mean__\n",
    "*    the reciprocal of the arithmetic mean of the reciprocals of the data values. This measure too is valid only for data that are measured absolutely on a strictly positive scale.\n",
    "\n",
    "$$ H = \\frac{n}{\\sum_{i = i}^{n} \\frac{1}{x_i}}$$\n",
    "__Weighted arithmetic mean__\n",
    "*    an arithmetic mean that incorporates weighting to certain data elements.\n",
    "\n",
    "__Truncated mean or trimmed mean__\n",
    "*    the arithmetic mean of data values after a certain number or proportion of the highest and lowest data values have been discarded.\n",
    "\n",
    "__Interquartile mean__\n",
    "*    a truncated mean based on data within the interquartile range.\n",
    "\n",
    "__Midrange__\n",
    "*    the arithmetic mean of the maximum and minimum values of a data set.\n",
    "\n",
    "__Midhinge__\n",
    "*    the arithmetic mean of the first and third quartiles.\n",
    "\n",
    "__Trimean__\n",
    "*    the weighted arithmetic mean of the median and two quartiles.\n",
    "\n",
    "__Winsorized mean__\n",
    "*    an arithmetic mean in which extreme values are replaced by values closer to the median.\n",
    "\n",
    "\n",
    "\n",
    "Any of the above may be applied to each dimension of multi-dimensional data, but the results may not be invariant to rotations of the multi-dimensional space. In addition, there are the\n",
    "\n",
    "__Geometric median__\n",
    "*    which minimizes the sum of distances to the data points. This is the same as the median when applied to one-dimensional data, but it is not the same as taking the median of each dimension independently. It is not invariant to different rescaling of the different dimensions.\n",
    "\n",
    "__Quadratic mean__ (often known as the root mean square)\n",
    "*    useful in engineering, but not often used in statistics. This is because it is not a good indicator of the center of the distribution when the distribution includes negative values.\n",
    "\n",
    "__Simplicial depth__\n",
    "*    the probability that a randomly chosen simplex with vertices from the given distribution will contain the given center\n",
    "\n",
    "__Tukey median__\n",
    "*    a point with the property that every halfspace containing it also contains many sample points"
   ]
  },
  {
   "cell_type": "markdown",
   "metadata": {},
   "source": [
    "For unimodal distributions (distributions possesing a unique mode) the following bounds are known and are sharp:"
   ]
  },
  {
   "cell_type": "markdown",
   "metadata": {},
   "source": [
    "$$ \\frac{|\\theta - \\mu|}{\\sigma} \\le \\sqrt{3} $$\n",
    "\n",
    "$$ \\frac{|\\nu - \\mu|}{\\sigma} \\le \\sqrt{0.6} $$\n",
    "\n",
    "$$ \\frac{|\\theta - \\nu|}{\\sigma} \\le \\sqrt{3}$$"
   ]
  },
  {
   "cell_type": "markdown",
   "metadata": {},
   "source": [
    "where $\\mu$ is the mean, $\\nu$ is the median, $\\theta$ is the mode, and $\\sigma$ is the standard deviation. "
   ]
  },
  {
   "cell_type": "markdown",
   "metadata": {},
   "source": [
    "For every distribution\n",
    "\n",
    "$$ \\frac{|\\nu - \\mu|}{\\sigma} \\le 1 $$"
   ]
  },
  {
   "cell_type": "markdown",
   "metadata": {},
   "source": [
    "## Estimates of Variability\n",
    "Location is just one dimension in summarizing a feature. A second dimension, variability, also referred to as dispersion, measures whether the data values are tightly clustered or spread out. At the heart of statistics lies variability: measuring it, reducing it,\n",
    "distinguishing random from real variability, identifying the various sources of real\n",
    "variability, and making decisions in the presence of it."
   ]
  },
  {
   "cell_type": "code",
   "execution_count": null,
   "metadata": {},
   "outputs": [],
   "source": []
  }
 ],
 "metadata": {
  "kernelspec": {
   "display_name": "Python 3.7.4 64-bit ('lab': virtualenv)",
   "language": "python",
   "name": "python37464bitlabvirtualenved77d976613b4753a84284c005b6ce98"
  },
  "language_info": {
   "codemirror_mode": {
    "name": "ipython",
    "version": 3
   },
   "file_extension": ".py",
   "mimetype": "text/x-python",
   "name": "python",
   "nbconvert_exporter": "python",
   "pygments_lexer": "ipython3",
   "version": "3.7.4"
  }
 },
 "nbformat": 4,
 "nbformat_minor": 4
}
