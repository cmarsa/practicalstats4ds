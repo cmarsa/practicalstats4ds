{
 "cells": [
  {
   "cell_type": "markdown",
   "metadata": {},
   "source": [
    "# __Chapter 01__"
   ]
  },
  {
   "cell_type": "markdown",
   "metadata": {},
   "source": [
    "# Exploratory Data Analysis"
   ]
  },
  {
   "cell_type": "markdown",
   "metadata": {},
   "source": [
    "## Elements of Structured Data"
   ]
  },
  {
   "cell_type": "markdown",
   "metadata": {},
   "source": [
    "There are two basic types of structured data: __numeric__ and __categorical__.\n",
    "\n",
    "_Numeric_ data\n",
    "comes in two forms:\n",
    "1. continuous, such as wind speed or time duration,\n",
    "2. and discrete,\n",
    "such as the count of the occurrence of an event.\n",
    "\n",
    "_Categorical_ data takes only a fixed set\n",
    "of values, such as a type of TV screen (plasma, LCD, LED, etc.) or a state name (Ala‐\n",
    "bama, Alaska, etc.).\n",
    "- Binary data is an important special case of categorical data that\n",
    "takes on only one of two values, such as 0/1, yes/no, or true/false.\n",
    "- Another useful type\n",
    "of categorical data is ordinal data in which the categories are ordered; an example of\n",
    "this is a numerical rating (1, 2, 3, 4, or 5)."
   ]
  },
  {
   "cell_type": "markdown",
   "metadata": {},
   "source": [
    "Why do we bother with a taxonomy of data types? It turns out that for the purposes\n",
    "of data analysis and predictive modeling, the data type is important to help determine\n",
    "the type of visual display, data analysis, or statistical model."
   ]
  },
  {
   "cell_type": "markdown",
   "metadata": {},
   "source": [
    "Software engineers and database programmers may wonder why we even need the\n",
    "notion of categorical and ordinal data for analytics. After all, categories are merely a\n",
    "collection of text (or numeric) values, and the underlying database automatically han‐\n",
    "dles the internal representation. However, explicit identification of data as categorical,\n",
    "as distinct from text, does offer some advantages"
   ]
  },
  {
   "cell_type": "markdown",
   "metadata": {},
   "source": [
    "* Knowing that data is categorical can act as a signal telling software how statistical\n",
    "procedures, such as producing a chart or fitting a model, should behave. In particular, ordinal data can be represented as an ordered.factor in R, preserving a\n",
    "user-specified ordering in charts, tables, and models. In Python, scikit-learn\n",
    "supports ordinal data with the sklearn.preprocessing.OrdinalEncoder .\n",
    "* Storage and indexing can be optimized (as in a relational database).\n",
    "* The possible values a given categorical variable can take are enforced in the software (like an enum)."
   ]
  },
  {
   "cell_type": "markdown",
   "metadata": {},
   "source": [
    "## Rectangular Data"
   ]
  },
  {
   "cell_type": "markdown",
   "metadata": {},
   "source": [
    "The typical frame of reference for an analysis in data science is a rectangular data\n",
    "object, like a spreadsheet or database table.\n",
    "Rectangular data is the general term for a two-dimensional matrix with rows indicating records (cases) and columns indicating features (variables)."
   ]
  },
  {
   "cell_type": "markdown",
   "metadata": {},
   "source": [
    "__Data frame__\n",
    "* Rectangular data (like a spreadsheet) is the basic data structure for statistical and\n",
    "machine learning models.\n",
    "\n",
    "__Feature__\n",
    "* A column within a table is commonly referred to as a feature.\n",
    "Synonyms: attribute, input, predictor, variable\n",
    "\n",
    "__Outcome__\n",
    "* Many data science projects involve predicting an outcome—often a yes/no outcome. The features are sometimes used to predict the outcome in an experiment or a study.\n",
    "Synonyms: dependent variable, response, target, output\n",
    "\n",
    "__Records__\n",
    "* A row within a table is commonly referred to as a record.\n",
    "Synonyms: case, example, instance, observation, pattern, sample"
   ]
  },
  {
   "cell_type": "markdown",
   "metadata": {},
   "source": [
    "## Data Frames and Indexes"
   ]
  },
  {
   "cell_type": "markdown",
   "metadata": {},
   "source": [
    "Traditional database tables have one or more columns designated as an index, essentially a row number. This can vastly improve the efficiency of certain database queries"
   ]
  },
  {
   "cell_type": "markdown",
   "metadata": {},
   "source": [
    "## Estimates of Location"
   ]
  },
  {
   "cell_type": "markdown",
   "metadata": {},
   "source": [
    "Variables with measured or count data might have thousands of distinct values. A\n",
    "basic step in exploring your data is getting a “typical value” for each feature (variable):\n",
    "an estimate of where most of the data is located (i.e., its central tendency)."
   ]
  },
  {
   "cell_type": "markdown",
   "metadata": {},
   "source": [
    "### Key Terms for Estimates of Location"
   ]
  },
  {
   "cell_type": "markdown",
   "metadata": {},
   "source": [
    "__Mean__:\n",
    "* The sum of all values divided by the number of values.\n",
    "    Synonym: avergae\n",
    "\n",
    "__Weighted mean__:\n",
    "* The sum of all values times a weight divided by the sum of the weights.\n",
    "    Synonym: wighted average.\n",
    "    \n",
    "__Median__:\n",
    "* The value such that one-half of the data lies above and below.\n",
    "    Synonym: 50th Percentile\n",
    "\n",
    "__Percentile__:\n",
    "* The value such that $P$ percent of the data lies below.\n",
    "    Synonym: quantile.\n",
    "    \n",
    "__Weighted median__:\n",
    "* The value such that one-half of the sum of the weights lies above and below the\n",
    "    sorted data.\n",
    "\n",
    "__Trimmed mean__:\n",
    "* The average of all values after dropping a fixed number of extreme values.\n",
    "    Synonym: truncated mean,\n",
    "    \n",
    "__Robuts__:\n",
    "* Non sensitive to extreme values. Synonym: resistant.\n",
    "\n",
    "__Outlier__:\n",
    "* A data value that is very different from most of the data.\n",
    "    Synonym: extreme value."
   ]
  },
  {
   "cell_type": "markdown",
   "metadata": {},
   "source": [
    "Statisticians often use the term estimate for a value calculated from\n",
    "the data at hand, to draw a distinction between what we see from\n",
    "the data and the theoretical true or exact state of affairs. Data scientists and business analysts are more likely to refer to such a value as\n",
    "a metric. The difference reflects the approach of statistics versus\n",
    "that of data science: accounting for uncertainty lies at the heart of\n",
    "the discipline of statistics, whereas concrete business or organizational objectives are the focus of data science. Hence, statisticians\n",
    "estimate, and data scientists measure."
   ]
  },
  {
   "cell_type": "markdown",
   "metadata": {},
   "source": [
    "### Mean\n",
    "The most basic estimate of location is the __mean__, or average value. The mean is the\n",
    "sum of all values divided by the number of values.\n",
    "The formula to compute the mean for a set of $n$ values $x_1 , x_2 , ..., x_n$ is:\n",
    "\n",
    "$$ \\bar{x} = \\frac{\\sum_{i = 1}^{n} x_i}{n}$$"
   ]
  },
  {
   "cell_type": "markdown",
   "metadata": {},
   "source": [
    "N (or n) refers to the total number of records or observations. In\n",
    "statistics it is capitalized if it is referring to a population, and lowercase if it refers to a sample from a population. In data science, that\n",
    "distinction is not vital, so you may see it both ways."
   ]
  },
  {
   "cell_type": "markdown",
   "metadata": {},
   "source": [
    "A variation of the mean is a __trimmed mean__, which you calculate by dropping a fixed\n",
    "number of sorted values at each end and then taking an average of the remaining val‐\n",
    "ues. Representing the sorted values by $x_1 , x_2 , ..., x_n$ where $x_1$ is the smallest value\n",
    "and $x_n$ the largest, the formula to compute the trimmed mean with p smallest and\n",
    "largest values omitted is:\n",
    "\n",
    "$$ \\bar{x} = \\frac{\\sum_{i = p + 1}^{n - p} x_{(i)}}{n - 2p}$$"
   ]
  },
  {
   "cell_type": "markdown",
   "metadata": {},
   "source": [
    "A trimmed mean eliminates the influence of extreme values. For example, in international diving the top score and bottom score from five judges are dropped, and the\n",
    "final score is the average of the scores from the three remaining judges. This makes it\n",
    "difficult for a single judge to manipulate the score, perhaps to favor their country’s\n",
    "contestant. Trimmed means are widely used, and in many cases are preferable to\n",
    "using the ordinary mean."
   ]
  },
  {
   "cell_type": "markdown",
   "metadata": {},
   "source": [
    "Another type of mean is a __weighted mean__, which you calculate by multiplying each\n",
    "data value $x_i$ by a user-specified weight $w$ i and dividing their sum by the sum of the\n",
    "weights. The formula for a weighted mean is:\n",
    "\n",
    "$$ \\bar{x_w} = \\frac{\\sum_{i = 1}^{n} w_i x_i}{\\sum_{i = 1}^{n} w_i}$$"
   ]
  },
  {
   "cell_type": "markdown",
   "metadata": {},
   "source": [
    "There are two main motivations for using a weighted mean:\n",
    "* Some values are intrinsically more variable than others, and highly variable\n",
    "observations are given a lower weight. For example, if we are taking the average\n",
    "from multiple sensors and one of the sensors is less accurate, then we might\n",
    "downweight the data from that sensor.\n",
    "* The data collected does not equally represent the different groups that we are\n",
    "interested in measuring. For example, because of the way an online experiment\n",
    "was conducted, we may not have a set of data that accurately reflects all groups in\n",
    "the user base. To correct that, we can give a higher weight to the values from the\n",
    "groups that were underrepresented."
   ]
  },
  {
   "cell_type": "markdown",
   "metadata": {},
   "source": [
    "### Median and Robust Estimates"
   ]
  },
  {
   "cell_type": "markdown",
   "metadata": {},
   "source": [
    "The median is the middle number on a sorted list of the data. If there is an even number of data values, the middle value is one that is not actually in the data set, but\n",
    "rather the average of the two values that divide the sorted data into upper and lower\n",
    "halves. Compared to the mean, which uses all observations, the median depends only\n",
    "on the values in the center of the sorted data."
   ]
  },
  {
   "cell_type": "markdown",
   "metadata": {},
   "source": [
    "While this might seem to be a disadvan‐\n",
    "tage, since the mean is much more sensitive to the data, there are many instances in\n",
    "which the median is a better metric for location. Let’s say we want to look at typical\n",
    "household incomes in neighborhoods around Lake Washington in Seattle. In comparing the Medina neighborhood to the Windermere neighborhood, using the mean\n",
    "would produce very different results because Bill Gates lives in Medina. If we use the\n",
    "median, it won’t matter how rich Bill Gates is—the position of the middle observation\n",
    "will remain the same.\n",
    "\n",
    "For the same reasons that one uses a weighted mean, it is also possible to compute a\n",
    "weighted median. As with the median, we first sort the data, although each data value\n",
    "has an associated weight. Instead of the middle number, the weighted median is a\n",
    "value such that the sum of the weights is equal for the lower and upper halves of the\n",
    "sorted list. Like the median, the weighted median is robust to outliers."
   ]
  },
  {
   "cell_type": "markdown",
   "metadata": {},
   "source": [
    "### Outliers\n",
    "The median is referred to as a robust estimate of location since it is not influenced by\n",
    "outliers (extreme cases) that could skew the results. An outlier is any value that is very\n",
    "distant from the other values in a data set.\n",
    "\n",
    "Being an outlier in itself does\n",
    "not make a data value invalid or erroneous (as in the previous example with Bill\n",
    "Gates). Still, outliers are often the result of data errors such as mixing data of different\n",
    "units (kilometers versus meters) or bad readings from a sensor. When outliers are the\n",
    "result of bad data, the mean will result in a poor estimate of location, while the\n",
    "median will still be valid. In any case, outliers should be identified and are usually\n",
    "worthy of further investigation.\n",
    "\n",
    "#### Anomaly Detection\n",
    "In contrast to typical data analysis, where outliers are sometimes\n",
    "informative and sometimes a nuisance, in anomaly detection the\n",
    "points of interest are the outliers, and the greater mass of data\n",
    "serves primarily to define the “normal” against which anomalies\n",
    "are measured."
   ]
  },
  {
   "cell_type": "markdown",
   "metadata": {},
   "source": [
    "The median is not the only robust estimate of location. In fact, a trimmed mean is\n",
    "widely used to avoid the influence of outliers. For example, trimming the bottom and\n",
    "top 10% (a common choice) of the data will provide protection against outliers in all\n",
    "but the smallest data sets. The trimmed mean can be thought of as a compromise\n",
    "between the median and the mean: it is robust to extreme values in the data, but uses\n",
    "more data to calculate the estimate for location."
   ]
  },
  {
   "cell_type": "markdown",
   "metadata": {},
   "source": [
    "#### Other Robust Metrics for Location\n",
    "Statisticians have developed a plethora of other estimators for location, primarily with the goal of developing an estimator more\n",
    "robust than the mean and also more efficient (i.e., better able to\n",
    "discern small location differences between data sets). While these\n",
    "methods are potentially useful for small data sets, they are not\n",
    "likely to provide added benefit for large or even moderately sized\n",
    "data sets."
   ]
  },
  {
   "cell_type": "markdown",
   "metadata": {},
   "source": [
    "### Example: Location Estimates of Population and Murder Rates"
   ]
  },
  {
   "cell_type": "markdown",
   "metadata": {},
   "source": [
    "Example shows the first few rows in the data set containing population and murder\n",
    "rates (in units of murders per 100,000 people per year) for each US state (2010\n",
    "Census)."
   ]
  },
  {
   "cell_type": "code",
   "execution_count": 1,
   "metadata": {},
   "outputs": [],
   "source": [
    "import numpy as np\n",
    "from scipy import stats\n",
    "import pandas as pd"
   ]
  },
  {
   "cell_type": "code",
   "execution_count": 2,
   "metadata": {},
   "outputs": [],
   "source": [
    "state = pd.read_csv('../data/state.csv')"
   ]
  },
  {
   "cell_type": "code",
   "execution_count": 3,
   "metadata": {},
   "outputs": [
    {
     "data": {
      "text/html": [
       "<div>\n",
       "<style scoped>\n",
       "    .dataframe tbody tr th:only-of-type {\n",
       "        vertical-align: middle;\n",
       "    }\n",
       "\n",
       "    .dataframe tbody tr th {\n",
       "        vertical-align: top;\n",
       "    }\n",
       "\n",
       "    .dataframe thead th {\n",
       "        text-align: right;\n",
       "    }\n",
       "</style>\n",
       "<table border=\"1\" class=\"dataframe\">\n",
       "  <thead>\n",
       "    <tr style=\"text-align: right;\">\n",
       "      <th></th>\n",
       "      <th>State</th>\n",
       "      <th>Population</th>\n",
       "      <th>Murder.Rate</th>\n",
       "      <th>Abbreviation</th>\n",
       "    </tr>\n",
       "  </thead>\n",
       "  <tbody>\n",
       "    <tr>\n",
       "      <th>0</th>\n",
       "      <td>Alabama</td>\n",
       "      <td>4779736</td>\n",
       "      <td>5.7</td>\n",
       "      <td>AL</td>\n",
       "    </tr>\n",
       "    <tr>\n",
       "      <th>1</th>\n",
       "      <td>Alaska</td>\n",
       "      <td>710231</td>\n",
       "      <td>5.6</td>\n",
       "      <td>AK</td>\n",
       "    </tr>\n",
       "    <tr>\n",
       "      <th>2</th>\n",
       "      <td>Arizona</td>\n",
       "      <td>6392017</td>\n",
       "      <td>4.7</td>\n",
       "      <td>AZ</td>\n",
       "    </tr>\n",
       "    <tr>\n",
       "      <th>3</th>\n",
       "      <td>Arkansas</td>\n",
       "      <td>2915918</td>\n",
       "      <td>5.6</td>\n",
       "      <td>AR</td>\n",
       "    </tr>\n",
       "    <tr>\n",
       "      <th>4</th>\n",
       "      <td>California</td>\n",
       "      <td>37253956</td>\n",
       "      <td>4.4</td>\n",
       "      <td>CA</td>\n",
       "    </tr>\n",
       "  </tbody>\n",
       "</table>\n",
       "</div>"
      ],
      "text/plain": [
       "        State  Population  Murder.Rate Abbreviation\n",
       "0     Alabama     4779736          5.7           AL\n",
       "1      Alaska      710231          5.6           AK\n",
       "2     Arizona     6392017          4.7           AZ\n",
       "3    Arkansas     2915918          5.6           AR\n",
       "4  California    37253956          4.4           CA"
      ]
     },
     "execution_count": 3,
     "metadata": {},
     "output_type": "execute_result"
    }
   ],
   "source": [
    "state.head()"
   ]
  },
  {
   "cell_type": "code",
   "execution_count": 4,
   "metadata": {},
   "outputs": [
    {
     "data": {
      "text/plain": [
       "6162876.3"
      ]
     },
     "execution_count": 4,
     "metadata": {},
     "output_type": "execute_result"
    }
   ],
   "source": [
    "state['Population'].mean()"
   ]
  },
  {
   "cell_type": "code",
   "execution_count": 5,
   "metadata": {},
   "outputs": [
    {
     "data": {
      "text/plain": [
       "4783697.125"
      ]
     },
     "execution_count": 5,
     "metadata": {},
     "output_type": "execute_result"
    }
   ],
   "source": [
    "stats.trim_mean(state['Population'], 0.1)"
   ]
  },
  {
   "cell_type": "code",
   "execution_count": 6,
   "metadata": {},
   "outputs": [
    {
     "data": {
      "text/plain": [
       "4436369.5"
      ]
     },
     "execution_count": 6,
     "metadata": {},
     "output_type": "execute_result"
    }
   ],
   "source": [
    "state['Population'].median()"
   ]
  },
  {
   "cell_type": "markdown",
   "metadata": {},
   "source": [
    "The mean is bigger than the trimmed mean, which is bigger than the median."
   ]
  },
  {
   "cell_type": "markdown",
   "metadata": {},
   "source": [
    "This is because the trimmed mean excludes the largest and smallest five states\n",
    "( `trim = 0.1` drops 10% from each end). If we want to compute the average murder rate\n",
    "for the country, we need to use a weighted mean or median to account for different\n",
    "populations in the states."
   ]
  },
  {
   "cell_type": "markdown",
   "metadata": {},
   "source": [
    "Weighted mean is available with NumPy"
   ]
  },
  {
   "cell_type": "code",
   "execution_count": 7,
   "metadata": {},
   "outputs": [
    {
     "data": {
      "text/plain": [
       "4.445833981123393"
      ]
     },
     "execution_count": 7,
     "metadata": {},
     "output_type": "execute_result"
    }
   ],
   "source": [
    "np.average(state['Murder.Rate'], weights = state['Population'])"
   ]
  },
  {
   "cell_type": "markdown",
   "metadata": {},
   "source": [
    "For weighted median, we can use the specialized package wquantiles"
   ]
  },
  {
   "cell_type": "code",
   "execution_count": 9,
   "metadata": {},
   "outputs": [
    {
     "data": {
      "text/plain": [
       "4.4"
      ]
     },
     "execution_count": 9,
     "metadata": {},
     "output_type": "execute_result"
    }
   ],
   "source": [
    "import wquantiles\n",
    "wquantiles.median(state['Murder.Rate'], weights = state['Population'])"
   ]
  },
  {
   "cell_type": "markdown",
   "metadata": {},
   "source": [
    "In statistics, a __central tendency__ (or measure of central tendency) is a central or typical value for a probability distribution. It may also be called a center or location of the distribution. Colloquially, measures of central tendency are often called averages. The term central tendency dates from the late 1920s.\n",
    "\n",
    "The most common measures of __central tendency__ are the arithmetic mean, the median, and the mode. A middle tendency can be calculated for either a finite set of values or for a theoretical distribution, such as the normal distribution. Occasionally authors use central tendency to denote \"the tendency of quantitative data to cluster around some central value.\n",
    "\n",
    "The central tendency of a distribution is typically contrasted with its __dispersion__ or __variability__; dispersion and central tendency are the often characterized properties of distributions. Analysis may judge whether data has a strong or a weak central tendency based on its dispersion. "
   ]
  },
  {
   "cell_type": "markdown",
   "metadata": {},
   "source": [
    "The following may be applied to one-dimensional data. Depending on the circumstances, it may be appropriate to transform the data before calculating a central tendency. Examples are squaring the values or taking logarithms. Whether a transformation is appropriate and what it should be, depend heavily on the data being analyzed.\n",
    "\n",
    "__Arithmetic mean__ or simply, __mean__\n",
    "*    the sum of all measurements divided by the number of observations in the data set.\n",
    "\n",
    "__Median__\n",
    "*    the middle value that separates the higher half from the lower half of the data set. __The median and the mode are the only measures of central tendency that can be used for ordinal data, in which values are ranked relative to each other but are not measured absolutely__.\n",
    "\n",
    "__Mode__\n",
    "*    the most frequent value in the data set. __This is the only central tendency measure that can be used with nominal data, which have purely qualitative category assignments__.\n",
    "\n",
    "__Geometric mean__\n",
    "*    the nth root of the product of the data values, where there are n of these. This measure is valid only for data that are measured absolutely on a strictly positive scale.\n",
    "\n",
    "$$ G = \\Big( \\prod_{i = 1}^{n} x_i \\Big) ^{\\frac{1}{n}} = \\sqrt[n]{x_1 x_2 ... x_n}$$\n",
    "\n",
    "__Harmonic mean__\n",
    "*    the reciprocal of the arithmetic mean of the reciprocals of the data values. This measure too is valid only for data that are measured absolutely on a strictly positive scale.\n",
    "\n",
    "$$ H = \\frac{n}{\\sum_{i = i}^{n} \\frac{1}{x_i}}$$\n",
    "__Weighted arithmetic mean__\n",
    "*    an arithmetic mean that incorporates weighting to certain data elements.\n",
    "\n",
    "__Truncated mean or trimmed mean__\n",
    "*    the arithmetic mean of data values after a certain number or proportion of the highest and lowest data values have been discarded.\n",
    "\n",
    "__Interquartile mean__\n",
    "*    a truncated mean based on data within the interquartile range.\n",
    "\n",
    "__Midrange__\n",
    "*    the arithmetic mean of the maximum and minimum values of a data set.\n",
    "\n",
    "__Midhinge__\n",
    "*    the arithmetic mean of the first and third quartiles.\n",
    "\n",
    "__Trimean__\n",
    "*    the weighted arithmetic mean of the median and two quartiles.\n",
    "\n",
    "__Winsorized mean__\n",
    "*    an arithmetic mean in which extreme values are replaced by values closer to the median.\n",
    "\n",
    "\n",
    "\n",
    "Any of the above may be applied to each dimension of multi-dimensional data, but the results may not be invariant to rotations of the multi-dimensional space. In addition, there are the\n",
    "\n",
    "__Geometric median__\n",
    "*    which minimizes the sum of distances to the data points. This is the same as the median when applied to one-dimensional data, but it is not the same as taking the median of each dimension independently. It is not invariant to different rescaling of the different dimensions.\n",
    "\n",
    "__Quadratic mean__ (often known as the root mean square)\n",
    "*    useful in engineering, but not often used in statistics. This is because it is not a good indicator of the center of the distribution when the distribution includes negative values.\n",
    "\n",
    "__Simplicial depth__\n",
    "*    the probability that a randomly chosen simplex with vertices from the given distribution will contain the given center\n",
    "\n",
    "__Tukey median__\n",
    "*    a point with the property that every halfspace containing it also contains many sample points"
   ]
  },
  {
   "cell_type": "markdown",
   "metadata": {},
   "source": [
    "For unimodal distributions (distributions possesing a unique mode) the following bounds are known and are sharp:"
   ]
  },
  {
   "cell_type": "markdown",
   "metadata": {},
   "source": [
    "$$ \\frac{|\\theta - \\mu|}{\\sigma} \\le \\sqrt{3} $$"
   ]
  },
  {
   "cell_type": "markdown",
   "metadata": {},
   "source": [
    "$$ \\frac{|\\nu - \\mu|}{\\sigma} \\le \\sqrt{0.6} $$"
   ]
  },
  {
   "cell_type": "markdown",
   "metadata": {},
   "source": [
    "$$ \\frac{|\\theta - \\nu|}{\\sigma} \\le \\sqrt{3}$$"
   ]
  },
  {
   "cell_type": "markdown",
   "metadata": {},
   "source": [
    "where $\\mu$ is the mean, $\\nu$ is the median, $\\theta$ is the mode, and $\\sigma$ is the standard deviation. "
   ]
  },
  {
   "cell_type": "markdown",
   "metadata": {},
   "source": [
    "For every distribution\n",
    "\n",
    "$$ \\frac{|\\nu - \\mu|}{\\sigma} \\le 1 $$"
   ]
  },
  {
   "cell_type": "markdown",
   "metadata": {},
   "source": [
    "## Estimates of Variability\n",
    "Location is just one dimension in summarizing a feature. A second dimension, variability, also referred to as dispersion, measures whether the data values are tightly clustered or spread out. At the heart of statistics lies variability: measuring it, reducing it,\n",
    "distinguishing random from real variability, identifying the various sources of real\n",
    "variability, and making decisions in the presence of it."
   ]
  },
  {
   "cell_type": "markdown",
   "metadata": {},
   "source": [
    "----"
   ]
  },
  {
   "cell_type": "markdown",
   "metadata": {},
   "source": [
    "__Deviations__:\n",
    "* The difference between the observed values and the estimate of location.\n",
    "    Synonyms: errors, residuals\n",
    "    \n",
    "__Variance__:\n",
    "* The sum of squared deviations from the mean divided by $ n - 1 $ where \n",
    "    $n$ is the number of data values.\n",
    "    Synonym: mean-squared-error\n",
    "\n",
    "__Standard deviation__:\n",
    "* The square root of the variance.\n",
    "\n",
    "__Mean absolute deviation__:\n",
    "* The mean of the absolute values of the deviations from the mean.\n",
    "    Synonym: L1-norm, Manhattan norm.\n",
    "\n",
    "__Median absoute deviation from the median__:\n",
    "* The median of the absolute valus of the deviations from the median.\n",
    "\n",
    "__Range__:\n",
    "* The differences between the largest and the smalles value in a dataset.\n",
    "\n",
    "__Order Statistics__:\n",
    "* Metrics based on the data value ssorted from smalles to biggest.\n",
    "    Synonym: ranks\n",
    "    \n",
    "__Percentile__:\n",
    "* The value such that $P$ pecent of the values take on this value or less\n",
    "    and ($100 - P$) percent take on this value or more.\n",
    "    Synonym: quantile\n",
    "   \n",
    "__Interquantile range IQR__:\n",
    "* The difference between the 75th percentile and the 25th percentile"
   ]
  },
  {
   "cell_type": "markdown",
   "metadata": {},
   "source": [
    "____"
   ]
  },
  {
   "cell_type": "markdown",
   "metadata": {},
   "source": [
    "### Standard Deviation and Related Estimates"
   ]
  },
  {
   "cell_type": "markdown",
   "metadata": {},
   "source": [
    "The most widely used estimates of variation are based on the differences, or deviations, between the estimate of location and the observed data. For a set of data\n",
    "${1, 4, 4}$, the mean is 3 and the median is 4. The deviations from the mean are the\n",
    "differences: $1 - 3 = -2, 4 - 3 = 1, 4 - 3 = 1$. These deviations tell us how dispersed the\n",
    "data is around the central value.\n",
    "\n",
    "One way to measure variability is to estimate a typical value for these deviations.\n",
    "Averaging the deviations themselves would not tell us much—the negative deviations\n",
    "offset the positive ones. In fact, the sum of the deviations from the mean is precisely\n",
    "zero. Instead, a simple approach is to take the average of the absolute values of the\n",
    "deviations from the mean. In the preceding example, the absolute value of the deviations is ${2 1 1}$, and their average is $(2 + 1 + 1) / 3 = 1.33$. This is known as the mean\n",
    "absolute deviation and is computed with the formula:"
   ]
  },
  {
   "cell_type": "markdown",
   "metadata": {},
   "source": [
    "$$ \\text{Mean Absolute Deviation} = \\frac{\\sum_{i = 1}^{n} |x_i - \\bar{x_i}}{n}$$"
   ]
  },
  {
   "cell_type": "markdown",
   "metadata": {},
   "source": [
    "where $\\bar{x}$ is the sample mean."
   ]
  },
  {
   "cell_type": "markdown",
   "metadata": {},
   "source": [
    "The best-known estimates of variability are the variance and the standard deviation,\n",
    "which are based on squared deviations. The variance is an average of the squared\n",
    "deviations, and the standard deviation is the square root of the variance:"
   ]
  },
  {
   "cell_type": "markdown",
   "metadata": {},
   "source": [
    "$$ \\text{Variance} = s^2 = \\frac{\\sum_{i = 1}^{n} (x_i - \\bar{x}^2)}{n - 1}$$"
   ]
  },
  {
   "cell_type": "markdown",
   "metadata": {},
   "source": [
    "$$ \\text{Standard deviation} = s = \\sqrt{\\text{Variance}}$$"
   ]
  },
  {
   "cell_type": "markdown",
   "metadata": {},
   "source": [
    "The standard deviation is much easier to interpret than the variance since it is on the\n",
    "same scale as the original data. Still, with its more complicated and less intuitive for‐\n",
    "mula, it might seem peculiar that the standard deviation is preferred in statistics over\n",
    "the mean absolute deviation. It owes its preeminence to statistical theory: mathematically, working with squared values is much more convenient than absolute values,\n",
    "especially for statistical models."
   ]
  },
  {
   "cell_type": "markdown",
   "metadata": {},
   "source": [
    "----"
   ]
  },
  {
   "cell_type": "markdown",
   "metadata": {},
   "source": [
    "### Degrees of Freedom, and n or n – 1?"
   ]
  },
  {
   "cell_type": "markdown",
   "metadata": {},
   "source": [
    "In statistics books, there is always some discussion of why we have $n - 1$ in the\n",
    "denominator in the variance formula, instead of $n$, leading into the concept of degrees\n",
    "of freedom. This distinction is not important since $n$ is generally large enough that it\n",
    "won’t make much difference whether you divide by $n$ or $n - 1$. But in case you are\n",
    "interested, here is the story. It is based on the premise that you want to make estimates about a population, based on a sample."
   ]
  },
  {
   "cell_type": "markdown",
   "metadata": {},
   "source": [
    "If you use the intuitive denominator of $n$ in the variance formula, you will underestimate the true value of the variance and the standard deviation in the population. This\n",
    "is referred to as a __biased__ estimate. However, if you divide by $n – 1$ instead of n, the\n",
    "variance becomes an __unbiased__ estimate.\n",
    "\n",
    "To fully explain why using $n$ leads to a biased estimate involves the notion of degrees\n",
    "of freedom, which takes into account the number of constraints in computing an estimate. In this case, there are $n - 1$ degrees of freedom since there is one constraint: the\n",
    "standard deviation depends on calculating the sample mean. For most problems, data\n",
    "scientists do not need to worry about degrees of freedom."
   ]
  },
  {
   "cell_type": "markdown",
   "metadata": {},
   "source": [
    "----"
   ]
  },
  {
   "cell_type": "markdown",
   "metadata": {},
   "source": [
    "Neither the variance, the standard deviation, nor the mean absolute deviation is\n",
    "robust to outliers and extreme values.\n",
    "The variance and standard deviation are especially sensitive to outliers since they are based on the squared deviations.\n"
   ]
  },
  {
   "cell_type": "markdown",
   "metadata": {},
   "source": [
    "A robust estimate of variability is the median absolute deviation from the median or\n",
    "MAD:\n",
    "\n",
    "$$ \\text{Median absolute deviation} = \\text{Median} \\big( |x_1 - m|, |x_2 - m|, ..., |x_N - m| \\big)$$"
   ]
  },
  {
   "cell_type": "markdown",
   "metadata": {},
   "source": [
    "where $m$ is the median. Like the median, the MAD is not influenced by extreme values. It is also possible to compute a trimmed standard deviation analogous to the\n",
    "trimmed mean."
   ]
  },
  {
   "cell_type": "markdown",
   "metadata": {},
   "source": [
    "____"
   ]
  },
  {
   "cell_type": "markdown",
   "metadata": {},
   "source": [
    "The variance, the standard deviation, the mean absolute deviation,\n",
    "and the median absolute deviation from the median are not equivalent estimates, even in the case where the data comes from a normal distribution. In fact, the standard deviation is always greater\n",
    "than the mean absolute deviation, which itself is greater than the\n",
    "median absolute deviation. Sometimes, the median absolute deviation is multiplied by a constant scaling factor to put the MAD on\n",
    "the same scale as the standard deviation in the case of a normal distribution. The commonly used factor of 1.4826 means that 50% of\n",
    "the normal distribution fall within the range ±MAD"
   ]
  },
  {
   "cell_type": "markdown",
   "metadata": {},
   "source": [
    "____"
   ]
  },
  {
   "cell_type": "markdown",
   "metadata": {},
   "source": [
    "### Estimates Based on Percentiles"
   ]
  },
  {
   "cell_type": "markdown",
   "metadata": {},
   "source": [
    "A different approach to estimating dispersion is based on looking at the spread of the\n",
    "sorted data. Statistics based on sorted (ranked) data are referred to as order statistics.\n",
    "The most basic measure is the range: the difference between the largest and smallest\n",
    "numbers. The minimum and maximum values themselves are useful to know and are\n",
    "helpful in identifying outliers, but the range is extremely sensitive to outliers and not\n",
    "very useful as a general measure of dispersion in the data."
   ]
  },
  {
   "cell_type": "markdown",
   "metadata": {},
   "source": [
    "To avoid the sensitivity to outliers, we can look at the range of the data after dropping\n",
    "values from each end. Formally, these types of estimates are based on differences\n",
    "between percentiles. In a data set, the Pth percentile is a value such that at least $P$ percent of the values take on this value or less and at least $(100 - P)$ percent of the values\n",
    "take on this value or more. For example, to find the 80th percentile, sort the data.\n",
    "Then, starting with the smallest value, proceed 80 percent of the way to the largest\n",
    "value. Note that the median is the same thing as the 50th percentile. The percentile is\n",
    "essentially the same as a quantile, with quantiles indexed by fractions (so the .8 quan‐\n",
    "tile is the same as the 80th percentile)."
   ]
  },
  {
   "cell_type": "markdown",
   "metadata": {},
   "source": [
    "A common measurement of variability is the difference between the 25th percentile\n",
    "and the 75th percentile, called the interquartile range (or IQR). Here is a simple example: {3,1,5,3,6,7,2,9}. We sort these to get {1,2,3,3,5,6,7,9}. The 25th percentile is at 2.5,\n",
    "and the 75th percentile is at 6.5, so the interquartile range is 6.5 – 2.5 = 4. Software\n",
    "can have slightly differing approaches that yield different answers (see the following\n",
    "tip); typically, these differences are smaller."
   ]
  },
  {
   "cell_type": "markdown",
   "metadata": {},
   "source": [
    "For very large data sets, calculating exact percentiles can be computationally very\n",
    "expensive since it requires sorting all the data values. Machine learning and statistical\n",
    "software use special algorithms, such as Zhang-Wang-2007, to get an approximate\n",
    "percentile that can be calculated very quickly and is guaranteed to have a certain\n",
    "accuracy."
   ]
  },
  {
   "cell_type": "markdown",
   "metadata": {},
   "source": [
    "___\n",
    "#### Percentile: Precise Definition\n",
    "If we have an even number of data (n is even), then the percentile is\n",
    "ambiguous under the preceding definition. In fact, we could take\n",
    "on any value between the order statistics $x_j$ and $x_{j + 1}$ where $j$\n",
    "satisfies:\n",
    "\n",
    "$$ 100 * \\frac{j}{n} \\le P \\lt 100 * \\frac{j + 1}{n}$$"
   ]
  },
  {
   "cell_type": "markdown",
   "metadata": {},
   "source": [
    "Formally, the percentile is the weighted average:\n",
    "\n",
    "$$ \\text{Percentile}(P) = (1 - w)x_{(j)} + wx_{(j + 1)}$$\n",
    "\n",
    "for some weight w between 0 and 1."
   ]
  },
  {
   "cell_type": "markdown",
   "metadata": {},
   "source": [
    "____"
   ]
  },
  {
   "cell_type": "markdown",
   "metadata": {},
   "source": [
    "### Example: Variability Estimates of State Population"
   ]
  },
  {
   "cell_type": "code",
   "execution_count": 12,
   "metadata": {},
   "outputs": [
    {
     "data": {
      "text/html": [
       "<div>\n",
       "<style scoped>\n",
       "    .dataframe tbody tr th:only-of-type {\n",
       "        vertical-align: middle;\n",
       "    }\n",
       "\n",
       "    .dataframe tbody tr th {\n",
       "        vertical-align: top;\n",
       "    }\n",
       "\n",
       "    .dataframe thead th {\n",
       "        text-align: right;\n",
       "    }\n",
       "</style>\n",
       "<table border=\"1\" class=\"dataframe\">\n",
       "  <thead>\n",
       "    <tr style=\"text-align: right;\">\n",
       "      <th></th>\n",
       "      <th>State</th>\n",
       "      <th>Population</th>\n",
       "      <th>Murder.Rate</th>\n",
       "      <th>Abbreviation</th>\n",
       "    </tr>\n",
       "  </thead>\n",
       "  <tbody>\n",
       "    <tr>\n",
       "      <th>0</th>\n",
       "      <td>Alabama</td>\n",
       "      <td>4779736</td>\n",
       "      <td>5.7</td>\n",
       "      <td>AL</td>\n",
       "    </tr>\n",
       "    <tr>\n",
       "      <th>1</th>\n",
       "      <td>Alaska</td>\n",
       "      <td>710231</td>\n",
       "      <td>5.6</td>\n",
       "      <td>AK</td>\n",
       "    </tr>\n",
       "    <tr>\n",
       "      <th>2</th>\n",
       "      <td>Arizona</td>\n",
       "      <td>6392017</td>\n",
       "      <td>4.7</td>\n",
       "      <td>AZ</td>\n",
       "    </tr>\n",
       "    <tr>\n",
       "      <th>3</th>\n",
       "      <td>Arkansas</td>\n",
       "      <td>2915918</td>\n",
       "      <td>5.6</td>\n",
       "      <td>AR</td>\n",
       "    </tr>\n",
       "    <tr>\n",
       "      <th>4</th>\n",
       "      <td>California</td>\n",
       "      <td>37253956</td>\n",
       "      <td>4.4</td>\n",
       "      <td>CA</td>\n",
       "    </tr>\n",
       "    <tr>\n",
       "      <th>5</th>\n",
       "      <td>Colorado</td>\n",
       "      <td>5029196</td>\n",
       "      <td>2.8</td>\n",
       "      <td>CO</td>\n",
       "    </tr>\n",
       "    <tr>\n",
       "      <th>6</th>\n",
       "      <td>Connecticut</td>\n",
       "      <td>3574097</td>\n",
       "      <td>2.4</td>\n",
       "      <td>CT</td>\n",
       "    </tr>\n",
       "    <tr>\n",
       "      <th>7</th>\n",
       "      <td>Delaware</td>\n",
       "      <td>897934</td>\n",
       "      <td>5.8</td>\n",
       "      <td>DE</td>\n",
       "    </tr>\n",
       "  </tbody>\n",
       "</table>\n",
       "</div>"
      ],
      "text/plain": [
       "         State  Population  Murder.Rate Abbreviation\n",
       "0      Alabama     4779736          5.7           AL\n",
       "1       Alaska      710231          5.6           AK\n",
       "2      Arizona     6392017          4.7           AZ\n",
       "3     Arkansas     2915918          5.6           AR\n",
       "4   California    37253956          4.4           CA\n",
       "5     Colorado     5029196          2.8           CO\n",
       "6  Connecticut     3574097          2.4           CT\n",
       "7     Delaware      897934          5.8           DE"
      ]
     },
     "execution_count": 12,
     "metadata": {},
     "output_type": "execute_result"
    }
   ],
   "source": [
    "state.head(8)"
   ]
  },
  {
   "cell_type": "code",
   "execution_count": 13,
   "metadata": {},
   "outputs": [
    {
     "data": {
      "text/plain": [
       "6848235.347401142"
      ]
     },
     "execution_count": 13,
     "metadata": {},
     "output_type": "execute_result"
    }
   ],
   "source": [
    "state['Population'].std()"
   ]
  },
  {
   "cell_type": "code",
   "execution_count": 15,
   "metadata": {},
   "outputs": [
    {
     "name": "stdout",
     "output_type": "stream",
     "text": [
      "4847308.0\n"
     ]
    }
   ],
   "source": [
    "# Interquartile range is calculated as the difference\n",
    "# of the 75% and 25% quantile.\n",
    "print(state['Population'].quantile(0.75) - state['Population'].quantile(0.25))"
   ]
  },
  {
   "cell_type": "code",
   "execution_count": 17,
   "metadata": {},
   "outputs": [
    {
     "name": "stdout",
     "output_type": "stream",
     "text": [
      "3849876.1459979336\n",
      "3849876.1459979336\n"
     ]
    }
   ],
   "source": [
    "# Median absolute deviation from the median can\n",
    "# be calculated with a method in statsmodels\n",
    "from statsmodels import robust\n",
    "\n",
    "print(robust.scale.mad(state['Population']))\n",
    "print(abs(state['Population'] - state['Population'].median()).median() / 0.6744897501960817)"
   ]
  },
  {
   "cell_type": "markdown",
   "metadata": {},
   "source": [
    "## Exploring the Data Distribution"
   ]
  },
  {
   "cell_type": "markdown",
   "metadata": {},
   "source": [
    "Each of the estimates we’ve covered sums up the data in a single number to describe\n",
    "the location or variability of the data. It is also useful to explore how the data is distributed overall."
   ]
  },
  {
   "cell_type": "markdown",
   "metadata": {},
   "source": [
    "____\n",
    "\n",
    "__Boxplot__\n",
    "* A plot introduced by Tukey as a quick way to visualize the distribution of data.\n",
    "    Synonym box and whiskers plot\n",
    "\n",
    "__Frequency table__\n",
    "* A tally of the count of numeric data values that fall into a set of intervals (bins).\n",
    "\n",
    "__Histogram__\n",
    "* A plot of the frequency table with the bins on the x-axis and the count (or pro‐\n",
    "portion) on the y-axis. While visually similar, bar charts should not be confused\n",
    "with histograms. See “Exploring Binary and Categorical Data” on page 27 for a\n",
    "discussion of the difference.\n",
    "\n",
    "__Density plot__\n",
    "* A smoothed version of the histogram, often based on a kernel density estimate.\n",
    "____"
   ]
  },
  {
   "cell_type": "markdown",
   "metadata": {},
   "source": [
    "### Percentiles and Boxplots"
   ]
  },
  {
   "cell_type": "markdown",
   "metadata": {},
   "source": [
    "It is common to report the quartiles (25th, 50th, and 75th percentiles) and the deciles (the 10th, 20th, ..., 90th percentiles). Percentiles are espe‐\n",
    "cially valuable for summarizing the tails (the outer range) of the distribution. Popular\n",
    "culture has coined the term one-percenters to refer to the people in the top 99th percentile of wealth."
   ]
  },
  {
   "cell_type": "code",
   "execution_count": 18,
   "metadata": {},
   "outputs": [
    {
     "data": {
      "text/plain": [
       "0.05    1.600\n",
       "0.25    2.425\n",
       "0.50    4.000\n",
       "0.75    5.550\n",
       "0.95    6.510\n",
       "Name: Murder.Rate, dtype: float64"
      ]
     },
     "execution_count": 18,
     "metadata": {},
     "output_type": "execute_result"
    }
   ],
   "source": [
    "state['Murder.Rate'].quantile([0.05, 0.25, 0.5, 0.75, 0.95])"
   ]
  },
  {
   "cell_type": "markdown",
   "metadata": {},
   "source": [
    "The median is 4 murders per 100,000 people, although there is quite a bit of variability: the 5th percentile is only 1.6 and the 95th percentile is 6.51."
   ]
  },
  {
   "cell_type": "markdown",
   "metadata": {},
   "source": [
    "Boxplots, introduced by Tukey, are based on percentiles and give a\n",
    "quick way to visualize the distribution of data."
   ]
  },
  {
   "cell_type": "code",
   "execution_count": 25,
   "metadata": {},
   "outputs": [
    {
     "data": {
      "text/plain": [
       "Text(0, 0.5, 'Poplation (millions)')"
      ]
     },
     "execution_count": 25,
     "metadata": {},
     "output_type": "execute_result"
    },
    {
     "data": {
      "image/png": "[encoded data removed]",
      "text/plain": [
       "<Figure size 432x288 with 1 Axes>"
      ]
     },
     "metadata": {
      "needs_background": "light"
     },
     "output_type": "display_data"
    }
   ],
   "source": [
    "ax = (state['Population'] / 1_000_000).plot.box()\n",
    "ax.set_ylabel('Poplation (millions)')"
   ]
  },
  {
   "cell_type": "markdown",
   "metadata": {},
   "source": [
    "From this boxplot we can immediately see that the median state population is about 5\n",
    "million, half the states fall between about 2 million and about 7 million, and there are\n",
    "some high population outliers. The top and bottom of the box are the 75th and 25th\n",
    "percentiles, respectively. The median is shown by the horizontal line in the box. The\n",
    "dashed lines, referred to as whiskers, extend from the top and bottom of the box to\n",
    "indicate the range for the bulk of the data. There are many variations of a boxplot;\n",
    "see, for example, the documentation for the R function boxplot. By\n",
    "default, the R function extends the whiskers to the furthest point beyond the box,\n",
    "except that it will not go beyond __1.5 times the IQR__. Matplotlib uses the same implementation; other software may use a different rule."
   ]
  },
  {
   "cell_type": "markdown",
   "metadata": {},
   "source": [
    "Any data outside of the whiskers is plotted as single points or circles (often considered outliers)."
   ]
  },
  {
   "cell_type": "markdown",
   "metadata": {},
   "source": [
    "### Frequency Tables and Histograms"
   ]
  },
  {
   "cell_type": "markdown",
   "metadata": {},
   "source": [
    "A frequency table of a variable divides up the variable range into equally spaced segments and tells us how many values fall within each segment."
   ]
  },
  {
   "cell_type": "markdown",
   "metadata": {},
   "source": [
    "The function `pandas.cut` creates a series that maps the values into the segments.\n",
    "Using the method `value_counts` , we get the frequency table:"
   ]
  },
  {
   "cell_type": "code",
   "execution_count": 26,
   "metadata": {},
   "outputs": [
    {
     "data": {
      "text/plain": [
       "(526935.67, 4232659.0]      24\n",
       "(4232659.0, 7901692.0]      14\n",
       "(7901692.0, 11570725.0]      6\n",
       "(11570725.0, 15239758.0]     2\n",
       "(33584923.0, 37253956.0]     1\n",
       "(22577824.0, 26246857.0]     1\n",
       "(18908791.0, 22577824.0]     1\n",
       "(15239758.0, 18908791.0]     1\n",
       "(29915890.0, 33584923.0]     0\n",
       "(26246857.0, 29915890.0]     0\n",
       "Name: Population, dtype: int64"
      ]
     },
     "execution_count": 26,
     "metadata": {},
     "output_type": "execute_result"
    }
   ],
   "source": [
    "binned_population = pd.cut(state['Population'], 10)\n",
    "binned_population.value_counts()"
   ]
  },
  {
   "cell_type": "code",
   "execution_count": 31,
   "metadata": {},
   "outputs": [
    {
     "data": {
      "text/html": [
       "<div>\n",
       "<style scoped>\n",
       "    .dataframe tbody tr th:only-of-type {\n",
       "        vertical-align: middle;\n",
       "    }\n",
       "\n",
       "    .dataframe tbody tr th {\n",
       "        vertical-align: top;\n",
       "    }\n",
       "\n",
       "    .dataframe thead th {\n",
       "        text-align: right;\n",
       "    }\n",
       "</style>\n",
       "<table border=\"1\" class=\"dataframe\">\n",
       "  <thead>\n",
       "    <tr style=\"text-align: right;\">\n",
       "      <th></th>\n",
       "      <th>Bin_Range</th>\n",
       "      <th>Count</th>\n",
       "      <th>States</th>\n",
       "    </tr>\n",
       "  </thead>\n",
       "  <tbody>\n",
       "    <tr>\n",
       "      <th>0</th>\n",
       "      <td>(526935.67, 4232659.0]</td>\n",
       "      <td>24</td>\n",
       "      <td>WY,VT,ND,AK,SD,DE,MT,RI,NH,ME,HI,ID,NE,WV,NM,N...</td>\n",
       "    </tr>\n",
       "    <tr>\n",
       "      <th>1</th>\n",
       "      <td>(4232659.0, 7901692.0]</td>\n",
       "      <td>14</td>\n",
       "      <td>KY,LA,SC,AL,CO,MN,WI,MD,MO,TN,AZ,IN,MA,WA</td>\n",
       "    </tr>\n",
       "    <tr>\n",
       "      <th>2</th>\n",
       "      <td>(7901692.0, 11570725.0]</td>\n",
       "      <td>6</td>\n",
       "      <td>VA,NJ,NC,GA,MI,OH</td>\n",
       "    </tr>\n",
       "    <tr>\n",
       "      <th>3</th>\n",
       "      <td>(11570725.0, 15239758.0]</td>\n",
       "      <td>2</td>\n",
       "      <td>PA,IL</td>\n",
       "    </tr>\n",
       "    <tr>\n",
       "      <th>4</th>\n",
       "      <td>(15239758.0, 18908791.0]</td>\n",
       "      <td>1</td>\n",
       "      <td>FL</td>\n",
       "    </tr>\n",
       "    <tr>\n",
       "      <th>5</th>\n",
       "      <td>(18908791.0, 22577824.0]</td>\n",
       "      <td>1</td>\n",
       "      <td>NY</td>\n",
       "    </tr>\n",
       "    <tr>\n",
       "      <th>6</th>\n",
       "      <td>(22577824.0, 26246857.0]</td>\n",
       "      <td>1</td>\n",
       "      <td>TX</td>\n",
       "    </tr>\n",
       "    <tr>\n",
       "      <th>7</th>\n",
       "      <td>(26246857.0, 29915890.0]</td>\n",
       "      <td>0</td>\n",
       "      <td></td>\n",
       "    </tr>\n",
       "    <tr>\n",
       "      <th>8</th>\n",
       "      <td>(29915890.0, 33584923.0]</td>\n",
       "      <td>0</td>\n",
       "      <td></td>\n",
       "    </tr>\n",
       "    <tr>\n",
       "      <th>9</th>\n",
       "      <td>(33584923.0, 37253956.0]</td>\n",
       "      <td>1</td>\n",
       "      <td>CA</td>\n",
       "    </tr>\n",
       "  </tbody>\n",
       "</table>\n",
       "</div>"
      ],
      "text/plain": [
       "                  Bin_Range  Count  \\\n",
       "0    (526935.67, 4232659.0]     24   \n",
       "1    (4232659.0, 7901692.0]     14   \n",
       "2   (7901692.0, 11570725.0]      6   \n",
       "3  (11570725.0, 15239758.0]      2   \n",
       "4  (15239758.0, 18908791.0]      1   \n",
       "5  (18908791.0, 22577824.0]      1   \n",
       "6  (22577824.0, 26246857.0]      1   \n",
       "7  (26246857.0, 29915890.0]      0   \n",
       "8  (29915890.0, 33584923.0]      0   \n",
       "9  (33584923.0, 37253956.0]      1   \n",
       "\n",
       "                                              States  \n",
       "0  WY,VT,ND,AK,SD,DE,MT,RI,NH,ME,HI,ID,NE,WV,NM,N...  \n",
       "1          KY,LA,SC,AL,CO,MN,WI,MD,MO,TN,AZ,IN,MA,WA  \n",
       "2                                  VA,NJ,NC,GA,MI,OH  \n",
       "3                                              PA,IL  \n",
       "4                                                 FL  \n",
       "5                                                 NY  \n",
       "6                                                 TX  \n",
       "7                                                     \n",
       "8                                                     \n",
       "9                                                 CA  "
      ]
     },
     "execution_count": 31,
     "metadata": {},
     "output_type": "execute_result"
    }
   ],
   "source": [
    "binned_population.name = 'binned_population'\n",
    "df = pd.concat([state, binned_population], axis=1)\n",
    "df = df.sort_values(by='Population')\n",
    "\n",
    "groups = []\n",
    "for group, subset in df.groupby(by='binned_population'):\n",
    "    groups.append({\n",
    "        'Bin_Range': group,\n",
    "        'Count': len(subset),\n",
    "        'States': ','.join(subset.Abbreviation)\n",
    "    })\n",
    "\n",
    "pd.DataFrame(groups)"
   ]
  },
  {
   "cell_type": "markdown",
   "metadata": {},
   "source": [
    "The least populous state is Wyoming, with 563,626 people, and the most populous is\n",
    "California, with 37,253,956 people. This gives us a range of 37,253,956 – 563,626 =\n",
    "36,690,330, which we must divide up into equal size bins—let’s say 10 bins. With 10\n",
    "equal size bins, each bin will have a width of 3,669,033, so the first bin will span from\n",
    "563,626 to 4,232,658. By contrast, the top bin, 33,584,923 to 37,253,956, has only one\n",
    "state: California. The two bins immediately below California are empty, until we\n",
    "reach Texas. It is important to include the empty bins; the fact that there are no values\n",
    "in those bins is useful information. It can also be useful to experiment with different\n",
    "bin sizes. If they are too large, important features of the distribution can be obscured.\n",
    "If they are too small, the result is too granular, and the ability to see the bigger picture\n",
    "is lost."
   ]
  },
  {
   "cell_type": "markdown",
   "metadata": {},
   "source": [
    "___\n",
    "Both frequency tables and percentiles summarize the data by creating bins. In general, quartiles and deciles will have the same count\n",
    "in each bin (equal-count bins), but the bin sizes will be different.\n",
    "The frequency table, by contrast, will have different counts in the\n",
    "bins (equal-size bins), and the bin sizes will be the same.\n",
    "___"
   ]
  },
  {
   "cell_type": "markdown",
   "metadata": {},
   "source": [
    "A histogram is a way to visualize a frequency table, with bins on the x-axis and the\n",
    "data count on the y-axis.\n",
    "\n",
    "`pandas` supports histograms for data frames with the `DataFrame.plot.hist` method.\n",
    "Use the keyword argument bins to define the number of bins. The various plot methods return an axis object that allows further fine-tuning of the visualization using\n",
    "Matplotlib :"
   ]
  },
  {
   "cell_type": "code",
   "execution_count": 34,
   "metadata": {},
   "outputs": [
    {
     "data": {
      "text/plain": [
       "Text(0.5, 0, 'Population (millions)')"
      ]
     },
     "execution_count": 34,
     "metadata": {},
     "output_type": "execute_result"
    },
    {
     "data": {
      "image/png": "[encoded data removed]",
      "text/plain": [
       "<Figure size 576x432 with 1 Axes>"
      ]
     },
     "metadata": {
      "needs_background": "light"
     },
     "output_type": "display_data"
    }
   ],
   "source": [
    "ax = (state['Population'] / 1_000_000).plot.hist(figsize = (8, 6), edgecolor = 'k')\n",
    "ax.set_xlabel('Population (millions)')"
   ]
  },
  {
   "cell_type": "markdown",
   "metadata": {},
   "source": [
    "__Statistical Moments__\n",
    "In statistical theory, __location__ and __variability__ are referred to as the\n",
    "__first__ and __second__ __moments__ of a distribution. The __third__ and __fourth__\n",
    "__moments__ are called __skewness__ and __kurtosis__. Skewness refers to\n",
    "whether the data is skewed to larger or smaller values, and kurtosis\n",
    "indicates the propensity of the data to have extreme values."
   ]
  },
  {
   "cell_type": "markdown",
   "metadata": {},
   "source": [
    "### Density Plots and Estimates"
   ]
  },
  {
   "cell_type": "markdown",
   "metadata": {},
   "source": [
    "Related to the histogram is a density plot, which shows the distribution of data values\n",
    "as a continuous line. A density plot can be thought of as a smoothed histogram,\n",
    "although it is typically computed directly from the data through a kernel density estimate.\n",
    "\n",
    "`pandas` provides the density method to create a density plot. Use the argument\n",
    "`bw_method` to control the smoothness of the density curve:"
   ]
  },
  {
   "cell_type": "code",
   "execution_count": 39,
   "metadata": {},
   "outputs": [
    {
     "data": {
      "text/plain": [
       "Text(0.5, 0, 'Murder Rate (per 100, 000)')"
      ]
     },
     "execution_count": 39,
     "metadata": {},
     "output_type": "execute_result"
    },
    {
     "data": {
      "image/png": "[encoded data removed]",
      "text/plain": [
       "<Figure size 576x432 with 1 Axes>"
      ]
     },
     "metadata": {
      "needs_background": "light"
     },
     "output_type": "display_data"
    }
   ],
   "source": [
    "ax = state['Murder.Rate'].plot.hist(density = True,\n",
    "                                    xlim = [0, 12],\n",
    "                                    bins = range(1, 12),\n",
    "                                    edgecolor = 'k',\n",
    "                                    figsize = (8, 6))\n",
    "state['Murder.Rate'].plot.density(ax = ax)\n",
    "ax.set_xlabel('Murder Rate (per 100, 000)')"
   ]
  },
  {
   "cell_type": "markdown",
   "metadata": {},
   "source": [
    "Plot functions often take an optional axis ( `ax` ) argument, which will cause the\n",
    "plot to be added to the same graph."
   ]
  },
  {
   "cell_type": "markdown",
   "metadata": {},
   "source": [
    "____\n",
    "#### Density Estimation\n",
    "Density estimation is a rich topic with a long history in statistical\n",
    "literature. In fact, over 20 R packages have been published that\n",
    "offer functions for density estimation. Deng-Wickham-2011  give\n",
    "a comprehensive review of R packages, with a particular recom‐\n",
    "mendation for ASH or KernSmooth . The density estimation methods\n",
    "in pandas and scikit-learn also offer good implementations. For\n",
    "many data science problems, there is no need to worry about the\n",
    "various types of density estimates; it suffices to use the base\n",
    "functions.\n",
    "\n",
    "____"
   ]
  },
  {
   "cell_type": "markdown",
   "metadata": {},
   "source": [
    "## Exploring Binary and Categorical Data"
   ]
  },
  {
   "cell_type": "markdown",
   "metadata": {},
   "source": [
    "For categorical data, simple proportions or percentages tell the story of the data."
   ]
  },
  {
   "cell_type": "markdown",
   "metadata": {},
   "source": [
    "Getting a summary of a binary variable or a categorical variable with a few categories\n",
    "is a fairly easy matter: we just figure out the proportion of 1s, or the proportions of\n",
    "the important categories. For example, table below shows the percentage of delayed\n",
    "flights by the cause of delay at Dallas/Fort Worth Airport since 2010. Delays are categorized as being due to factors under carrier control, air traffic control (ATC) system\n",
    "delays, weather, security, or a late inbound aircraft.\n"
   ]
  },
  {
   "cell_type": "code",
   "execution_count": 40,
   "metadata": {},
   "outputs": [],
   "source": [
    "dfw = pd.read_csv('../data/dfw_airline.csv')"
   ]
  },
  {
   "cell_type": "code",
   "execution_count": 41,
   "metadata": {},
   "outputs": [
    {
     "name": "stdout",
     "output_type": "stream",
     "text": [
      "     Carrier        ATC   Weather  Security    Inbound\n",
      "0  23.022989  30.400781  4.025214  0.122937  42.428079\n"
     ]
    }
   ],
   "source": [
    "print(100 * dfw / dfw.values.sum())"
   ]
  },
  {
   "cell_type": "markdown",
   "metadata": {},
   "source": [
    "Bar charts, seen often in the popular press, are a common visual tool for displaying a\n",
    "single categorical variable. Categories are listed on the x-axis, and frequencies or proportions on the y-axis."
   ]
  },
  {
   "cell_type": "code",
   "execution_count": 42,
   "metadata": {},
   "outputs": [
    {
     "data": {
      "text/plain": [
       "Text(0, 0.5, 'Count')"
      ]
     },
     "execution_count": 42,
     "metadata": {},
     "output_type": "execute_result"
    },
    {
     "data": {
      "image/png": "[encoded data removed]",
      "text/plain": [
       "<Figure size 576x432 with 1 Axes>"
      ]
     },
     "metadata": {
      "needs_background": "light"
     },
     "output_type": "display_data"
    }
   ],
   "source": [
    "ax = dfw.transpose().plot.bar(figsize = (8, 6),\n",
    "                              legend = False,\n",
    "                              edgecolor = 'k')\n",
    "ax.set_xlabel('Cause of delay')\n",
    "ax.set_ylabel('Count')"
   ]
  },
  {
   "cell_type": "markdown",
   "metadata": {},
   "source": [
    "Note that a bar chart resembles a histogram; in a bar chart the x-axis represents different categories of a factor variable, while in a histogram the x-axis represents values\n",
    "of a single variable on a numeric scale. In a histogram, the bars are typically shown\n",
    "touching each other, with gaps indicating values that did not occur in the data. In a\n",
    "bar chart, the bars are shown separate from one another."
   ]
  },
  {
   "cell_type": "markdown",
   "metadata": {},
   "source": [
    "Pie charts are an alternative to bar charts, although statisticians and data visualization\n",
    "experts generally eschew pie charts as less visually informative."
   ]
  },
  {
   "cell_type": "markdown",
   "metadata": {},
   "source": [
    "____\n",
    "#### Numerical Data as Categorical Data\n",
    "In “Frequency Tables and Histograms”, we looked at\n",
    "frequency tables based on binning the data. This implicitly converts\n",
    "the numeric data to an ordered factor. In this sense, histograms and\n",
    "bar charts are similar, except that the categories on the x-axis in the\n",
    "bar chart are not ordered. Converting numeric data to categorical\n",
    "data is an important and widely used step in data analysis since it\n",
    "reduces the complexity (and size) of the data. This aids in the discovery of relationships between features, particularly at the initial\n",
    "stages of an analysis.\n",
    "____"
   ]
  },
  {
   "cell_type": "markdown",
   "metadata": {},
   "source": [
    "### Mode"
   ]
  },
  {
   "cell_type": "markdown",
   "metadata": {},
   "source": [
    "The mode is the value—or values in case of a tie—that appears most often in the data.\n",
    "For example, the mode of the cause of delay at Dallas/Fort Worth airport is\n",
    "“Inbound.” As another example, in most parts of the United States, the mode for religious preference would be Christian. The mode is a simple summary statistic for\n",
    "categorical data, and it is generally not used for numeric data."
   ]
  },
  {
   "cell_type": "markdown",
   "metadata": {},
   "source": [
    "### Expected Value"
   ]
  },
  {
   "cell_type": "markdown",
   "metadata": {},
   "source": [
    "A special type of categorical data is data in which the categories represent or can be\n",
    "mapped to discrete values on the same scale. A marketer for a new cloud technology,\n",
    "for example, offers two levels of service, one priced at \\\\$300/month and another at\n",
    "\\\\$50/month. The marketer offers free webinars to generate leads, and the firm figures\n",
    "that 5% of the attendees will sign up for the \\\\$300 service, 15% will sign up for the $50\n",
    "service, and 80% will not sign up for anything. This data can be summed up, for\n",
    "financial purposes, in a single “expected value,” which is a form of weighted mean, in\n",
    "which the weights are probabilities.\n",
    "The expected value is calculated as follows:\n",
    "1. Multiply each outcome by its probability of occurrence.\n",
    "2. Sum these values."
   ]
  },
  {
   "cell_type": "markdown",
   "metadata": {},
   "source": [
    "In the cloud service example, the expected value of a webinar attendee is thus \\\\$22.50\n",
    "per month, calculated as follows:"
   ]
  },
  {
   "cell_type": "markdown",
   "metadata": {},
   "source": [
    "$$ EV = (0.05)(300) + (0.15)(50) + (0.80)(0) = 22.5$$"
   ]
  },
  {
   "cell_type": "markdown",
   "metadata": {},
   "source": [
    "The expected value is really a form of weighted mean: it adds the ideas of future\n",
    "expectations and probability weights, often based on subjective judgment. Expected\n",
    "value is a fundamental concept in business valuation and capital budgeting—for\n",
    "example, the expected value of five years of profits from a new acquisition, or the\n",
    "expected cost savings from new patient management software at a clinic.\n"
   ]
  },
  {
   "cell_type": "markdown",
   "metadata": {},
   "source": [
    "### Probability"
   ]
  },
  {
   "cell_type": "markdown",
   "metadata": {},
   "source": [
    "We referred above to the probability of a value occurring. Most people have an intuitive understanding of probability, encountering the concept frequently in weather\n",
    "forecasts (the chance of rain) or sports analysis (the probability of winning). Sports\n",
    "and games are more often expressed as odds, which are readily convertible to probabilities (if the odds that a team will win are 2 to 1, its probability of winning is 2/(2+1)\n",
    "= 2/3). Surprisingly, though, the concept of probability can be the source of deep\n",
    "philosophical discussion when it comes to defining it. Fortunately, we do not need a\n",
    "formal mathematical or philosophical definition here. For our purposes, the probabil‐\n",
    "ity that an event will happen is the proportion of times it will occur if the situation\n",
    "could be repeated over and over, countless times. Most often this is an imaginary construction, but it is an adequate operational understanding of probability."
   ]
  },
  {
   "cell_type": "code",
   "execution_count": null,
   "metadata": {},
   "outputs": [],
   "source": []
  }
 ],
 "metadata": {
  "kernelspec": {
   "display_name": "Python 3.7.4 64-bit ('lab': virtualenv)",
   "language": "python",
   "name": "python37464bitlabvirtualenved77d976613b4753a84284c005b6ce98"
  },
  "language_info": {
   "codemirror_mode": {
    "name": "ipython",
    "version": 3
   },
   "file_extension": ".py",
   "mimetype": "text/x-python",
   "name": "python",
   "nbconvert_exporter": "python",
   "pygments_lexer": "ipython3",
   "version": "3.7.4"
  }
 },
 "nbformat": 4,
 "nbformat_minor": 4
}
